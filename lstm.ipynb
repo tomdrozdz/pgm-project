{
 "cells": [
  {
   "cell_type": "code",
   "execution_count": 1,
   "metadata": {
    "collapsed": true,
    "pycharm": {
     "name": "#%%\n"
    }
   },
   "outputs": [],
   "source": [
    "import time\n",
    "\n",
    "import pandas as pd\n",
    "import torch\n",
    "from tqdm import trange, tqdm\n",
    "\n",
    "from src.data import batch_dataset, load_data, split_data\n",
    "from src.lstm import evaluate_hparams\n",
    "from src.data import time_series_split\n",
    "from src.lstm import MCDLSTM, train_mcdlstm\n",
    "from torch.utils.data import TensorDataset, DataLoader\n",
    "\n",
    "import numpy as np\n",
    "from sklearn.model_selection import ParameterGrid\n",
    "\n",
    "from matplotlib import pyplot as plt\n",
    "\n",
    "df = load_data()\n",
    "dataset = split_data(\n",
    "    df,\n",
    "    without_cols=[\n",
    "        \"Timestamp\",\n",
    "        \"Light1\",\n",
    "        \"Light2\",\n",
    "        \"Light3\",\n",
    "        \"Light4\",\n",
    "    ],\n",
    "    scale=\"normalize\",\n",
    ")\n",
    "seq_dataset = batch_dataset(dataset, sequence_length=10, overlap_series=True)\n",
    "\n",
    "(x_train, y_train), (x_test, y_test) = dataset\n",
    "(seq_x_train, seq_y_train), (seq_x_test, seq_y_test) = seq_dataset"
   ]
  },
  {
   "cell_type": "markdown",
   "metadata": {
    "pycharm": {
     "name": "#%% md\n"
    }
   },
   "source": [
    "## Z regresją, wstępne trenowanie"
   ]
  },
  {
   "cell_type": "code",
   "execution_count": 3,
   "metadata": {
    "pycharm": {
     "name": "#%%\n"
    }
   },
   "outputs": [
    {
     "name": "stderr",
     "output_type": "stream",
     "text": [
      "  1%|          | 1/100 [00:11<19:00, 11.52s/it]"
     ]
    },
    {
     "name": "stdout",
     "output_type": "stream",
     "text": [
      "Epoch 1\n",
      "Train loss : 0.9178144729479029, dev loss : 2.0218371133650503\n",
      "Dev MSE (rounded outs) : 2.128, R2: -0.320, f1: 0.277\n"
     ]
    },
    {
     "name": "stderr",
     "output_type": "stream",
     "text": [
      "  2%|▏         | 2/100 [00:22<18:06, 11.09s/it]"
     ]
    },
    {
     "name": "stdout",
     "output_type": "stream",
     "text": [
      "Epoch 2\n",
      "Train loss : 0.8520655666768786, dev loss : 1.8842690644725677\n",
      "Dev MSE (rounded outs) : 2.128, R2: -0.230, f1: 0.277\n"
     ]
    },
    {
     "name": "stderr",
     "output_type": "stream",
     "text": [
      "  3%|▎         | 3/100 [00:32<17:37, 10.90s/it]"
     ]
    },
    {
     "name": "stdout",
     "output_type": "stream",
     "text": [
      "Epoch 3\n",
      "Train loss : 0.7646032710202598, dev loss : 1.671888614854505\n",
      "Dev MSE (rounded outs) : 2.128, R2: -0.092, f1: 0.277\n"
     ]
    },
    {
     "name": "stderr",
     "output_type": "stream",
     "text": [
      "  4%|▍         | 4/100 [00:44<17:41, 11.06s/it]"
     ]
    },
    {
     "name": "stdout",
     "output_type": "stream",
     "text": [
      "Epoch 4\n",
      "Train loss : 0.6468441141217123, dev loss : 1.4442280646293395\n",
      "Dev MSE (rounded outs) : 1.432, R2: 0.057, f1: 0.186\n"
     ]
    },
    {
     "name": "stderr",
     "output_type": "stream",
     "text": [
      "  5%|▌         | 5/100 [00:54<17:13, 10.88s/it]"
     ]
    },
    {
     "name": "stdout",
     "output_type": "stream",
     "text": [
      "Epoch 5\n",
      "Train loss : 0.5098170295887785, dev loss : 1.3225765958909066\n",
      "Dev MSE (rounded outs) : 1.384, R2: 0.136, f1: 0.185\n"
     ]
    },
    {
     "name": "stderr",
     "output_type": "stream",
     "text": [
      "  6%|▌         | 6/100 [01:04<16:32, 10.56s/it]"
     ]
    },
    {
     "name": "stdout",
     "output_type": "stream",
     "text": [
      "Epoch 6\n",
      "Train loss : 0.438032632494868, dev loss : 1.2815303437171444\n",
      "Dev MSE (rounded outs) : 1.347, R2: 0.163, f1: 0.385\n"
     ]
    },
    {
     "name": "stderr",
     "output_type": "stream",
     "text": [
      "  7%|▋         | 7/100 [01:14<16:02, 10.35s/it]"
     ]
    },
    {
     "name": "stdout",
     "output_type": "stream",
     "text": [
      "Epoch 7\n",
      "Train loss : 0.4132781116210896, dev loss : 1.261792400190907\n",
      "Dev MSE (rounded outs) : 1.261, R2: 0.176, f1: 0.371\n"
     ]
    },
    {
     "name": "stderr",
     "output_type": "stream",
     "text": [
      "  8%|▊         | 8/100 [01:24<15:42, 10.24s/it]"
     ]
    },
    {
     "name": "stdout",
     "output_type": "stream",
     "text": [
      "Epoch 8\n",
      "Train loss : 0.3884510839203365, dev loss : 1.2379179789173989\n",
      "Dev MSE (rounded outs) : 1.249, R2: 0.192, f1: 0.370\n"
     ]
    },
    {
     "name": "stderr",
     "output_type": "stream",
     "text": [
      "  9%|▉         | 9/100 [01:35<15:46, 10.40s/it]"
     ]
    },
    {
     "name": "stdout",
     "output_type": "stream",
     "text": [
      "Epoch 9\n",
      "Train loss : 0.37733860964713833, dev loss : 1.2148709931681234\n",
      "Dev MSE (rounded outs) : 1.219, R2: 0.207, f1: 0.355\n"
     ]
    },
    {
     "name": "stderr",
     "output_type": "stream",
     "text": [
      " 10%|█         | 10/100 [01:45<15:35, 10.40s/it]"
     ]
    },
    {
     "name": "stdout",
     "output_type": "stream",
     "text": [
      "Epoch 10\n",
      "Train loss : 0.374224361959889, dev loss : 1.1949573639900453\n",
      "Dev MSE (rounded outs) : 1.203, R2: 0.220, f1: 0.359\n"
     ]
    },
    {
     "name": "stderr",
     "output_type": "stream",
     "text": [
      " 11%|█         | 11/100 [01:56<15:28, 10.44s/it]"
     ]
    },
    {
     "name": "stdout",
     "output_type": "stream",
     "text": [
      "Epoch 11\n",
      "Train loss : 0.3537221209922798, dev loss : 1.170002531620764\n",
      "Dev MSE (rounded outs) : 1.182, R2: 0.236, f1: 0.361\n"
     ]
    },
    {
     "name": "stderr",
     "output_type": "stream",
     "text": [
      " 12%|█▏        | 12/100 [02:06<15:14, 10.39s/it]"
     ]
    },
    {
     "name": "stdout",
     "output_type": "stream",
     "text": [
      "Epoch 12\n",
      "Train loss : 0.34455061480108456, dev loss : 1.1624767645712821\n",
      "Dev MSE (rounded outs) : 1.183, R2: 0.241, f1: 0.362\n"
     ]
    },
    {
     "name": "stderr",
     "output_type": "stream",
     "text": [
      " 13%|█▎        | 13/100 [02:17<15:18, 10.56s/it]"
     ]
    },
    {
     "name": "stdout",
     "output_type": "stream",
     "text": [
      "Epoch 13\n",
      "Train loss : 0.3385137340179074, dev loss : 1.1279953795094644\n",
      "Dev MSE (rounded outs) : 1.180, R2: 0.264, f1: 0.358\n"
     ]
    },
    {
     "name": "stderr",
     "output_type": "stream",
     "text": [
      " 14%|█▍        | 14/100 [02:28<15:06, 10.54s/it]"
     ]
    },
    {
     "name": "stdout",
     "output_type": "stream",
     "text": [
      "Epoch 14\n",
      "Train loss : 0.3226543155171183, dev loss : 1.1086865663528442\n",
      "Dev MSE (rounded outs) : 1.167, R2: 0.276, f1: 0.357\n"
     ]
    },
    {
     "name": "stderr",
     "output_type": "stream",
     "text": [
      " 15%|█▌        | 15/100 [02:39<15:29, 10.93s/it]"
     ]
    },
    {
     "name": "stdout",
     "output_type": "stream",
     "text": [
      "Epoch 15\n",
      "Train loss : 0.31334293851621536, dev loss : 1.0739748535617706\n",
      "Dev MSE (rounded outs) : 1.156, R2: 0.299, f1: 0.361\n"
     ]
    },
    {
     "name": "stderr",
     "output_type": "stream",
     "text": [
      " 16%|█▌        | 16/100 [02:51<15:38, 11.18s/it]"
     ]
    },
    {
     "name": "stdout",
     "output_type": "stream",
     "text": [
      "Epoch 16\n",
      "Train loss : 0.3034023808190238, dev loss : 1.0500707395615116\n",
      "Dev MSE (rounded outs) : 1.154, R2: 0.314, f1: 0.361\n"
     ]
    },
    {
     "name": "stderr",
     "output_type": "stream",
     "text": [
      " 17%|█▋        | 17/100 [03:02<15:09, 10.95s/it]"
     ]
    },
    {
     "name": "stdout",
     "output_type": "stream",
     "text": [
      "Epoch 17\n",
      "Train loss : 0.3023511243122722, dev loss : 1.0290376957385772\n",
      "Dev MSE (rounded outs) : 1.138, R2: 0.328, f1: 0.360\n"
     ]
    },
    {
     "name": "stderr",
     "output_type": "stream",
     "text": [
      " 18%|█▊        | 18/100 [03:12<14:41, 10.75s/it]"
     ]
    },
    {
     "name": "stdout",
     "output_type": "stream",
     "text": [
      "Epoch 18\n",
      "Train loss : 0.27721624023358343, dev loss : 1.0042103298248783\n",
      "Dev MSE (rounded outs) : 1.112, R2: 0.344, f1: 0.362\n"
     ]
    },
    {
     "name": "stderr",
     "output_type": "stream",
     "text": [
      " 19%|█▉        | 19/100 [03:22<14:16, 10.57s/it]"
     ]
    },
    {
     "name": "stdout",
     "output_type": "stream",
     "text": [
      "Epoch 19\n",
      "Train loss : 0.2757070634160706, dev loss : 0.9569114475480972\n",
      "Dev MSE (rounded outs) : 1.078, R2: 0.375, f1: 0.361\n"
     ]
    },
    {
     "name": "stderr",
     "output_type": "stream",
     "text": [
      " 20%|██        | 20/100 [03:32<13:55, 10.44s/it]"
     ]
    },
    {
     "name": "stdout",
     "output_type": "stream",
     "text": [
      "Epoch 20\n",
      "Train loss : 0.2555211931319812, dev loss : 0.9227393990562808\n",
      "Dev MSE (rounded outs) : 1.035, R2: 0.398, f1: 0.357\n"
     ]
    },
    {
     "name": "stderr",
     "output_type": "stream",
     "text": [
      " 21%|██        | 21/100 [03:44<14:14, 10.82s/it]"
     ]
    },
    {
     "name": "stdout",
     "output_type": "stream",
     "text": [
      "Epoch 21\n",
      "Train loss : 0.25461944992186525, dev loss : 0.8880611302391175\n",
      "Dev MSE (rounded outs) : 1.012, R2: 0.420, f1: 0.354\n"
     ]
    },
    {
     "name": "stderr",
     "output_type": "stream",
     "text": [
      " 22%|██▏       | 22/100 [03:54<13:45, 10.59s/it]"
     ]
    },
    {
     "name": "stdout",
     "output_type": "stream",
     "text": [
      "Epoch 22\n",
      "Train loss : 0.24775865382474402, dev loss : 0.8741208055327016\n",
      "Dev MSE (rounded outs) : 1.009, R2: 0.429, f1: 0.351\n"
     ]
    },
    {
     "name": "stderr",
     "output_type": "stream",
     "text": [
      " 23%|██▎       | 23/100 [04:04<13:22, 10.42s/it]"
     ]
    },
    {
     "name": "stdout",
     "output_type": "stream",
     "text": [
      "Epoch 23\n",
      "Train loss : 0.23974123445483064, dev loss : 0.8289835130976092\n",
      "Dev MSE (rounded outs) : 0.931, R2: 0.459, f1: 0.367\n"
     ]
    },
    {
     "name": "stderr",
     "output_type": "stream",
     "text": [
      " 24%|██▍       | 24/100 [04:14<13:04, 10.33s/it]"
     ]
    },
    {
     "name": "stdout",
     "output_type": "stream",
     "text": [
      "Epoch 24\n",
      "Train loss : 0.22483068494413327, dev loss : 0.8080597620817923\n",
      "Dev MSE (rounded outs) : 0.903, R2: 0.472, f1: 0.368\n"
     ]
    },
    {
     "name": "stderr",
     "output_type": "stream",
     "text": [
      " 25%|██▌       | 25/100 [04:25<12:59, 10.39s/it]"
     ]
    },
    {
     "name": "stdout",
     "output_type": "stream",
     "text": [
      "Epoch 25\n",
      "Train loss : 0.21650627895954097, dev loss : 0.7624625813576483\n",
      "Dev MSE (rounded outs) : 0.908, R2: 0.502, f1: 0.370\n"
     ]
    },
    {
     "name": "stderr",
     "output_type": "stream",
     "text": [
      " 26%|██▌       | 26/100 [04:38<13:56, 11.30s/it]"
     ]
    },
    {
     "name": "stdout",
     "output_type": "stream",
     "text": [
      "Epoch 26\n",
      "Train loss : 0.2143115064813921, dev loss : 0.7218198247494236\n",
      "Dev MSE (rounded outs) : 0.887, R2: 0.529, f1: 0.382\n"
     ]
    },
    {
     "name": "stderr",
     "output_type": "stream",
     "text": [
      " 27%|██▋       | 27/100 [04:50<13:59, 11.50s/it]"
     ]
    },
    {
     "name": "stdout",
     "output_type": "stream",
     "text": [
      "Epoch 27\n",
      "Train loss : 0.2051995361643464, dev loss : 0.7131225226386901\n",
      "Dev MSE (rounded outs) : 0.868, R2: 0.534, f1: 0.393\n"
     ]
    },
    {
     "name": "stderr",
     "output_type": "stream",
     "text": [
      " 28%|██▊       | 28/100 [05:03<14:16, 11.90s/it]"
     ]
    },
    {
     "name": "stdout",
     "output_type": "stream",
     "text": [
      "Epoch 28\n",
      "Train loss : 0.19618901794430296, dev loss : 0.6729431065820879\n",
      "Dev MSE (rounded outs) : 0.748, R2: 0.561, f1: 0.406\n"
     ]
    },
    {
     "name": "stderr",
     "output_type": "stream",
     "text": [
      " 29%|██▉       | 29/100 [05:16<14:28, 12.24s/it]"
     ]
    },
    {
     "name": "stdout",
     "output_type": "stream",
     "text": [
      "Epoch 29\n",
      "Train loss : 0.20293800076359345, dev loss : 0.6578773904231286\n",
      "Dev MSE (rounded outs) : 0.727, R2: 0.570, f1: 0.402\n"
     ]
    },
    {
     "name": "stderr",
     "output_type": "stream",
     "text": [
      " 30%|███       | 30/100 [05:28<14:21, 12.30s/it]"
     ]
    },
    {
     "name": "stdout",
     "output_type": "stream",
     "text": [
      "Epoch 30\n",
      "Train loss : 0.1958277503308277, dev loss : 0.6346147973691264\n",
      "Dev MSE (rounded outs) : 0.692, R2: 0.586, f1: 0.406\n"
     ]
    },
    {
     "name": "stderr",
     "output_type": "stream",
     "text": [
      " 31%|███       | 31/100 [05:41<14:18, 12.45s/it]"
     ]
    },
    {
     "name": "stdout",
     "output_type": "stream",
     "text": [
      "Epoch 31\n",
      "Train loss : 0.18498958072076616, dev loss : 0.6073032103238567\n",
      "Dev MSE (rounded outs) : 0.640, R2: 0.603, f1: 0.425\n"
     ]
    },
    {
     "name": "stderr",
     "output_type": "stream",
     "text": [
      " 32%|███▏      | 32/100 [05:51<13:20, 11.77s/it]"
     ]
    },
    {
     "name": "stdout",
     "output_type": "stream",
     "text": [
      "Epoch 32\n",
      "Train loss : 0.17566926215624384, dev loss : 0.5791609734296799\n",
      "Dev MSE (rounded outs) : 0.624, R2: 0.622, f1: 0.442\n"
     ]
    },
    {
     "name": "stderr",
     "output_type": "stream",
     "text": [
      " 33%|███▎      | 33/100 [06:02<12:51, 11.52s/it]"
     ]
    },
    {
     "name": "stdout",
     "output_type": "stream",
     "text": [
      "Epoch 33\n",
      "Train loss : 0.1815408856236181, dev loss : 0.5665003815966267\n",
      "Dev MSE (rounded outs) : 0.596, R2: 0.630, f1: 0.426\n"
     ]
    },
    {
     "name": "stderr",
     "output_type": "stream",
     "text": [
      " 34%|███▍      | 34/100 [06:12<12:12, 11.09s/it]"
     ]
    },
    {
     "name": "stdout",
     "output_type": "stream",
     "text": [
      "Epoch 34\n",
      "Train loss : 0.17748217207375958, dev loss : 0.5454301204412214\n",
      "Dev MSE (rounded outs) : 0.572, R2: 0.644, f1: 0.458\n"
     ]
    },
    {
     "name": "stderr",
     "output_type": "stream",
     "text": [
      " 35%|███▌      | 35/100 [06:22<11:41, 10.79s/it]"
     ]
    },
    {
     "name": "stdout",
     "output_type": "stream",
     "text": [
      "Epoch 35\n",
      "Train loss : 0.17376441302020912, dev loss : 0.5494757955593448\n",
      "Dev MSE (rounded outs) : 0.574, R2: 0.641, f1: 0.456\n"
     ]
    },
    {
     "name": "stderr",
     "output_type": "stream",
     "text": [
      " 36%|███▌      | 36/100 [06:34<11:48, 11.07s/it]"
     ]
    },
    {
     "name": "stdout",
     "output_type": "stream",
     "text": [
      "Epoch 36\n",
      "Train loss : 0.16729923506293137, dev loss : 0.5406896558500105\n",
      "Dev MSE (rounded outs) : 0.565, R2: 0.647, f1: 0.447\n"
     ]
    },
    {
     "name": "stderr",
     "output_type": "stream",
     "text": [
      " 37%|███▋      | 37/100 [06:44<11:20, 10.81s/it]"
     ]
    },
    {
     "name": "stdout",
     "output_type": "stream",
     "text": [
      "Epoch 37\n",
      "Train loss : 0.16516262799383624, dev loss : 0.5301594933675181\n",
      "Dev MSE (rounded outs) : 0.554, R2: 0.654, f1: 0.444\n"
     ]
    },
    {
     "name": "stderr",
     "output_type": "stream",
     "text": [
      " 38%|███▊      | 38/100 [06:54<10:58, 10.61s/it]"
     ]
    },
    {
     "name": "stdout",
     "output_type": "stream",
     "text": [
      "Epoch 38\n",
      "Train loss : 0.17340134442765487, dev loss : 0.5368676264920542\n",
      "Dev MSE (rounded outs) : 0.565, R2: 0.649, f1: 0.445\n"
     ]
    },
    {
     "name": "stderr",
     "output_type": "stream",
     "text": [
      " 39%|███▉      | 39/100 [07:05<10:38, 10.46s/it]"
     ]
    },
    {
     "name": "stdout",
     "output_type": "stream",
     "text": [
      "Epoch 39\n",
      "Train loss : 0.16705265149415247, dev loss : 0.487444514108281\n",
      "Dev MSE (rounded outs) : 0.514, R2: 0.682, f1: 0.458\n"
     ]
    },
    {
     "name": "stderr",
     "output_type": "stream",
     "text": [
      " 40%|████      | 40/100 [07:15<10:21, 10.36s/it]"
     ]
    },
    {
     "name": "stdout",
     "output_type": "stream",
     "text": [
      "Epoch 40\n",
      "Train loss : 0.16000399888003533, dev loss : 0.4967385876563288\n",
      "Dev MSE (rounded outs) : 0.531, R2: 0.676, f1: 0.451\n"
     ]
    },
    {
     "name": "stderr",
     "output_type": "stream",
     "text": [
      " 41%|████      | 41/100 [07:29<11:28, 11.68s/it]"
     ]
    },
    {
     "name": "stdout",
     "output_type": "stream",
     "text": [
      "Epoch 41\n",
      "Train loss : 0.15423276083610157, dev loss : 0.47837991147272046\n",
      "Dev MSE (rounded outs) : 0.516, R2: 0.688, f1: 0.474\n"
     ]
    },
    {
     "name": "stderr",
     "output_type": "stream",
     "text": [
      " 42%|████▏     | 42/100 [07:41<11:16, 11.66s/it]"
     ]
    },
    {
     "name": "stdout",
     "output_type": "stream",
     "text": [
      "Epoch 42\n",
      "Train loss : 0.15313155450692525, dev loss : 0.4819037919082949\n",
      "Dev MSE (rounded outs) : 0.520, R2: 0.685, f1: 0.486\n"
     ]
    },
    {
     "name": "stderr",
     "output_type": "stream",
     "text": [
      " 43%|████▎     | 43/100 [07:57<12:12, 12.85s/it]"
     ]
    },
    {
     "name": "stdout",
     "output_type": "stream",
     "text": [
      "Epoch 43\n",
      "Train loss : 0.1530900760829861, dev loss : 0.46468913483042873\n",
      "Dev MSE (rounded outs) : 0.485, R2: 0.697, f1: 0.486\n"
     ]
    },
    {
     "name": "stderr",
     "output_type": "stream",
     "text": [
      " 44%|████▍     | 44/100 [08:08<11:26, 12.26s/it]"
     ]
    },
    {
     "name": "stdout",
     "output_type": "stream",
     "text": [
      "Epoch 44\n",
      "Train loss : 0.15510715642877718, dev loss : 0.46040529012680054\n",
      "Dev MSE (rounded outs) : 0.488, R2: 0.699, f1: 0.463\n"
     ]
    },
    {
     "name": "stderr",
     "output_type": "stream",
     "text": [
      " 45%|████▌     | 45/100 [08:18<10:37, 11.60s/it]"
     ]
    },
    {
     "name": "stdout",
     "output_type": "stream",
     "text": [
      "Epoch 45\n",
      "Train loss : 0.15192860241228412, dev loss : 0.4701330123409148\n",
      "Dev MSE (rounded outs) : 0.522, R2: 0.693, f1: 0.466\n"
     ]
    },
    {
     "name": "stderr",
     "output_type": "stream",
     "text": [
      " 46%|████▌     | 46/100 [08:28<10:03, 11.17s/it]"
     ]
    },
    {
     "name": "stdout",
     "output_type": "stream",
     "text": [
      "Epoch 46\n",
      "Train loss : 0.14622622193849605, dev loss : 0.44860295711025117\n",
      "Dev MSE (rounded outs) : 0.483, R2: 0.707, f1: 0.485\n"
     ]
    },
    {
     "name": "stderr",
     "output_type": "stream",
     "text": [
      " 47%|████▋     | 47/100 [08:42<10:32, 11.93s/it]"
     ]
    },
    {
     "name": "stdout",
     "output_type": "stream",
     "text": [
      "Epoch 47\n",
      "Train loss : 0.14944266524210043, dev loss : 0.4427672739951841\n",
      "Dev MSE (rounded outs) : 0.458, R2: 0.711, f1: 0.483\n"
     ]
    },
    {
     "name": "stderr",
     "output_type": "stream",
     "text": [
      " 48%|████▊     | 48/100 [08:53<10:17, 11.88s/it]"
     ]
    },
    {
     "name": "stdout",
     "output_type": "stream",
     "text": [
      "Epoch 48\n",
      "Train loss : 0.1447122588591731, dev loss : 0.44727910141791066\n",
      "Dev MSE (rounded outs) : 0.483, R2: 0.708, f1: 0.457\n"
     ]
    },
    {
     "name": "stderr",
     "output_type": "stream",
     "text": [
      " 49%|████▉     | 49/100 [09:06<10:15, 12.07s/it]"
     ]
    },
    {
     "name": "stdout",
     "output_type": "stream",
     "text": [
      "Epoch 49\n",
      "Train loss : 0.14044472631508773, dev loss : 0.42674049230352523\n",
      "Dev MSE (rounded outs) : 0.426, R2: 0.721, f1: 0.489\n"
     ]
    },
    {
     "name": "stderr",
     "output_type": "stream",
     "text": [
      " 50%|█████     | 50/100 [09:16<09:32, 11.45s/it]"
     ]
    },
    {
     "name": "stdout",
     "output_type": "stream",
     "text": [
      "Epoch 50\n",
      "Train loss : 0.1428069803392581, dev loss : 0.42518806745929105\n",
      "Dev MSE (rounded outs) : 0.440, R2: 0.722, f1: 0.472\n"
     ]
    },
    {
     "name": "stderr",
     "output_type": "stream",
     "text": [
      " 51%|█████     | 51/100 [09:26<09:01, 11.06s/it]"
     ]
    },
    {
     "name": "stdout",
     "output_type": "stream",
     "text": [
      "Epoch 51\n",
      "Train loss : 0.14906773070911528, dev loss : 0.3901041198161341\n",
      "Dev MSE (rounded outs) : 0.368, R2: 0.745, f1: 0.492\n"
     ]
    },
    {
     "name": "stderr",
     "output_type": "stream",
     "text": [
      " 52%|█████▏    | 52/100 [09:39<09:16, 11.60s/it]"
     ]
    },
    {
     "name": "stdout",
     "output_type": "stream",
     "text": [
      "Epoch 52\n",
      "Train loss : 0.14565158386534383, dev loss : 0.41193485848845973\n",
      "Dev MSE (rounded outs) : 0.411, R2: 0.731, f1: 0.480\n"
     ]
    },
    {
     "name": "stderr",
     "output_type": "stream",
     "text": [
      " 53%|█████▎    | 53/100 [09:49<08:51, 11.31s/it]"
     ]
    },
    {
     "name": "stdout",
     "output_type": "stream",
     "text": [
      "Epoch 53\n",
      "Train loss : 0.1455908475826557, dev loss : 0.41291174629042227\n",
      "Dev MSE (rounded outs) : 0.399, R2: 0.730, f1: 0.476\n"
     ]
    },
    {
     "name": "stderr",
     "output_type": "stream",
     "text": [
      " 54%|█████▍    | 54/100 [10:00<08:34, 11.19s/it]"
     ]
    },
    {
     "name": "stdout",
     "output_type": "stream",
     "text": [
      "Epoch 54\n",
      "Train loss : 0.14384397472670898, dev loss : 0.42396091092978755\n",
      "Dev MSE (rounded outs) : 0.450, R2: 0.723, f1: 0.459\n"
     ]
    },
    {
     "name": "stderr",
     "output_type": "stream",
     "text": [
      " 55%|█████▌    | 55/100 [10:11<08:19, 11.11s/it]"
     ]
    },
    {
     "name": "stdout",
     "output_type": "stream",
     "text": [
      "Epoch 55\n",
      "Train loss : 0.13430580884041524, dev loss : 0.391058363741444\n",
      "Dev MSE (rounded outs) : 0.386, R2: 0.745, f1: 0.472\n"
     ]
    },
    {
     "name": "stderr",
     "output_type": "stream",
     "text": [
      " 56%|█████▌    | 56/100 [10:24<08:27, 11.53s/it]"
     ]
    },
    {
     "name": "stdout",
     "output_type": "stream",
     "text": [
      "Epoch 56\n",
      "Train loss : 0.14004744475214143, dev loss : 0.4038905136046871\n",
      "Dev MSE (rounded outs) : 0.413, R2: 0.736, f1: 0.476\n"
     ]
    },
    {
     "name": "stderr",
     "output_type": "stream",
     "text": [
      " 57%|█████▋    | 57/100 [10:35<08:16, 11.55s/it]"
     ]
    },
    {
     "name": "stdout",
     "output_type": "stream",
     "text": [
      "Epoch 57\n",
      "Train loss : 0.13420536075332185, dev loss : 0.39041915824336393\n",
      "Dev MSE (rounded outs) : 0.394, R2: 0.745, f1: 0.467\n"
     ]
    },
    {
     "name": "stderr",
     "output_type": "stream",
     "text": [
      " 58%|█████▊    | 58/100 [10:46<07:56, 11.36s/it]"
     ]
    },
    {
     "name": "stdout",
     "output_type": "stream",
     "text": [
      "Epoch 58\n",
      "Train loss : 0.13756616778023864, dev loss : 0.3824509879754436\n",
      "Dev MSE (rounded outs) : 0.386, R2: 0.750, f1: 0.474\n"
     ]
    },
    {
     "name": "stderr",
     "output_type": "stream",
     "text": [
      " 59%|█████▉    | 59/100 [10:57<07:41, 11.25s/it]"
     ]
    },
    {
     "name": "stdout",
     "output_type": "stream",
     "text": [
      "Epoch 59\n",
      "Train loss : 0.13221416435767658, dev loss : 0.3780564274038038\n",
      "Dev MSE (rounded outs) : 0.381, R2: 0.753, f1: 0.488\n"
     ]
    },
    {
     "name": "stderr",
     "output_type": "stream",
     "text": [
      " 60%|██████    | 60/100 [11:08<07:18, 10.95s/it]"
     ]
    },
    {
     "name": "stdout",
     "output_type": "stream",
     "text": [
      "Epoch 60\n",
      "Train loss : 0.13051807412163544, dev loss : 0.3842779957959729\n",
      "Dev MSE (rounded outs) : 0.395, R2: 0.749, f1: 0.482\n"
     ]
    },
    {
     "name": "stderr",
     "output_type": "stream",
     "text": [
      " 61%|██████    | 61/100 [11:19<07:07, 10.95s/it]"
     ]
    },
    {
     "name": "stdout",
     "output_type": "stream",
     "text": [
      "Epoch 61\n",
      "Train loss : 0.13410338316215828, dev loss : 0.3713197474998812\n",
      "Dev MSE (rounded outs) : 0.382, R2: 0.758, f1: 0.475\n"
     ]
    },
    {
     "name": "stderr",
     "output_type": "stream",
     "text": [
      " 62%|██████▏   | 62/100 [11:30<07:04, 11.17s/it]"
     ]
    },
    {
     "name": "stdout",
     "output_type": "stream",
     "text": [
      "Epoch 62\n",
      "Train loss : 0.1283331631899999, dev loss : 0.37834844377733046\n",
      "Dev MSE (rounded outs) : 0.388, R2: 0.753, f1: 0.465\n"
     ]
    },
    {
     "name": "stderr",
     "output_type": "stream",
     "text": [
      " 63%|██████▎   | 63/100 [11:42<06:58, 11.31s/it]"
     ]
    },
    {
     "name": "stdout",
     "output_type": "stream",
     "text": [
      "Epoch 63\n",
      "Train loss : 0.13281321689383432, dev loss : 0.36842491621932677\n",
      "Dev MSE (rounded outs) : 0.373, R2: 0.759, f1: 0.466\n"
     ]
    },
    {
     "name": "stderr",
     "output_type": "stream",
     "text": [
      " 64%|██████▍   | 64/100 [11:52<06:33, 10.93s/it]"
     ]
    },
    {
     "name": "stdout",
     "output_type": "stream",
     "text": [
      "Epoch 64\n",
      "Train loss : 0.13004112804654558, dev loss : 0.3754735144395982\n",
      "Dev MSE (rounded outs) : 0.391, R2: 0.755, f1: 0.474\n"
     ]
    },
    {
     "name": "stderr",
     "output_type": "stream",
     "text": [
      " 65%|██████▌   | 65/100 [12:03<06:29, 11.13s/it]"
     ]
    },
    {
     "name": "stdout",
     "output_type": "stream",
     "text": [
      "Epoch 65\n",
      "Train loss : 0.1264933237820687, dev loss : 0.3608165032440616\n",
      "Dev MSE (rounded outs) : 0.371, R2: 0.764, f1: 0.464\n"
     ]
    },
    {
     "name": "stderr",
     "output_type": "stream",
     "text": [
      " 66%|██████▌   | 66/100 [12:14<06:07, 10.80s/it]"
     ]
    },
    {
     "name": "stdout",
     "output_type": "stream",
     "text": [
      "Epoch 66\n",
      "Train loss : 0.13167465016937893, dev loss : 0.3639542145594474\n",
      "Dev MSE (rounded outs) : 0.378, R2: 0.762, f1: 0.459\n"
     ]
    },
    {
     "name": "stderr",
     "output_type": "stream",
     "text": [
      " 67%|██████▋   | 67/100 [12:24<05:57, 10.83s/it]"
     ]
    },
    {
     "name": "stdout",
     "output_type": "stream",
     "text": [
      "Epoch 67\n",
      "Train loss : 0.12573718501571493, dev loss : 0.3489760511344479\n",
      "Dev MSE (rounded outs) : 0.353, R2: 0.772, f1: 0.483\n"
     ]
    },
    {
     "name": "stderr",
     "output_type": "stream",
     "text": [
      " 68%|██████▊   | 68/100 [12:35<05:39, 10.62s/it]"
     ]
    },
    {
     "name": "stdout",
     "output_type": "stream",
     "text": [
      "Epoch 68\n",
      "Train loss : 0.12636526357456157, dev loss : 0.3406620160225899\n",
      "Dev MSE (rounded outs) : 0.355, R2: 0.778, f1: 0.459\n"
     ]
    },
    {
     "name": "stderr",
     "output_type": "stream",
     "text": [
      " 69%|██████▉   | 69/100 [12:45<05:24, 10.47s/it]"
     ]
    },
    {
     "name": "stdout",
     "output_type": "stream",
     "text": [
      "Epoch 69\n",
      "Train loss : 0.12397167973014206, dev loss : 0.34223365254940524\n",
      "Dev MSE (rounded outs) : 0.353, R2: 0.777, f1: 0.467\n"
     ]
    },
    {
     "name": "stderr",
     "output_type": "stream",
     "text": [
      " 70%|███████   | 70/100 [12:56<05:17, 10.59s/it]"
     ]
    },
    {
     "name": "stdout",
     "output_type": "stream",
     "text": [
      "Epoch 70\n",
      "Train loss : 0.12819053974782996, dev loss : 0.3407238116187434\n",
      "Dev MSE (rounded outs) : 0.357, R2: 0.778, f1: 0.463\n"
     ]
    },
    {
     "name": "stderr",
     "output_type": "stream",
     "text": [
      " 71%|███████   | 71/100 [13:06<05:09, 10.68s/it]"
     ]
    },
    {
     "name": "stdout",
     "output_type": "stream",
     "text": [
      "Epoch 71\n",
      "Train loss : 0.1314354303546927, dev loss : 0.3398707584748345\n",
      "Dev MSE (rounded outs) : 0.354, R2: 0.778, f1: 0.449\n"
     ]
    },
    {
     "name": "stderr",
     "output_type": "stream",
     "text": [
      " 72%|███████▏  | 72/100 [13:17<05:00, 10.73s/it]"
     ]
    },
    {
     "name": "stdout",
     "output_type": "stream",
     "text": [
      "Epoch 72\n",
      "Train loss : 0.12667458655732305, dev loss : 0.3296781506749891\n",
      "Dev MSE (rounded outs) : 0.345, R2: 0.785, f1: 0.458\n"
     ]
    },
    {
     "name": "stderr",
     "output_type": "stream",
     "text": [
      " 73%|███████▎  | 73/100 [13:28<04:50, 10.77s/it]"
     ]
    },
    {
     "name": "stdout",
     "output_type": "stream",
     "text": [
      "Epoch 73\n",
      "Train loss : 0.12488056036824059, dev loss : 0.3265948063663898\n",
      "Dev MSE (rounded outs) : 0.348, R2: 0.787, f1: 0.457\n"
     ]
    },
    {
     "name": "stderr",
     "output_type": "stream",
     "text": [
      " 74%|███████▍  | 74/100 [13:39<04:40, 10.81s/it]"
     ]
    },
    {
     "name": "stdout",
     "output_type": "stream",
     "text": [
      "Epoch 74\n",
      "Train loss : 0.12345454560614857, dev loss : 0.3342648174974226\n",
      "Dev MSE (rounded outs) : 0.355, R2: 0.782, f1: 0.457\n"
     ]
    },
    {
     "name": "stderr",
     "output_type": "stream",
     "text": [
      " 75%|███████▌  | 75/100 [13:51<04:36, 11.07s/it]"
     ]
    },
    {
     "name": "stdout",
     "output_type": "stream",
     "text": [
      "Epoch 75\n",
      "Train loss : 0.11736869451998487, dev loss : 0.33422419200501136\n",
      "Dev MSE (rounded outs) : 0.358, R2: 0.782, f1: 0.454\n"
     ]
    },
    {
     "name": "stderr",
     "output_type": "stream",
     "text": [
      " 76%|███████▌  | 76/100 [14:02<04:24, 11.01s/it]"
     ]
    },
    {
     "name": "stdout",
     "output_type": "stream",
     "text": [
      "Epoch 76\n",
      "Train loss : 0.12368486666492381, dev loss : 0.31760877178561303\n",
      "Dev MSE (rounded outs) : 0.339, R2: 0.793, f1: 0.458\n"
     ]
    },
    {
     "name": "stderr",
     "output_type": "stream",
     "text": [
      " 77%|███████▋  | 77/100 [14:12<04:07, 10.75s/it]"
     ]
    },
    {
     "name": "stdout",
     "output_type": "stream",
     "text": [
      "Epoch 77\n",
      "Train loss : 0.12271136359455204, dev loss : 0.32452204294743076\n",
      "Dev MSE (rounded outs) : 0.344, R2: 0.788, f1: 0.448\n"
     ]
    },
    {
     "name": "stderr",
     "output_type": "stream",
     "text": [
      " 78%|███████▊  | 78/100 [14:25<04:12, 11.47s/it]"
     ]
    },
    {
     "name": "stdout",
     "output_type": "stream",
     "text": [
      "Epoch 78\n",
      "Train loss : 0.11828744134832571, dev loss : 0.33352093134195576\n",
      "Dev MSE (rounded outs) : 0.356, R2: 0.782, f1: 0.447\n"
     ]
    },
    {
     "name": "stderr",
     "output_type": "stream",
     "text": [
      " 79%|███████▉  | 79/100 [14:36<03:57, 11.31s/it]"
     ]
    },
    {
     "name": "stdout",
     "output_type": "stream",
     "text": [
      "Epoch 79\n",
      "Train loss : 0.12555399926180544, dev loss : 0.3252641118822559\n",
      "Dev MSE (rounded outs) : 0.340, R2: 0.788, f1: 0.458\n"
     ]
    },
    {
     "name": "stderr",
     "output_type": "stream",
     "text": [
      " 80%|████████  | 80/100 [14:46<03:38, 10.95s/it]"
     ]
    },
    {
     "name": "stdout",
     "output_type": "stream",
     "text": [
      "Epoch 80\n",
      "Train loss : 0.11690325885385333, dev loss : 0.32519935600219235\n",
      "Dev MSE (rounded outs) : 0.351, R2: 0.788, f1: 0.447\n"
     ]
    },
    {
     "name": "stderr",
     "output_type": "stream",
     "text": [
      " 81%|████████  | 81/100 [14:57<03:27, 10.93s/it]"
     ]
    },
    {
     "name": "stdout",
     "output_type": "stream",
     "text": [
      "Epoch 81\n",
      "Train loss : 0.11416188670550528, dev loss : 0.317625927588632\n",
      "Dev MSE (rounded outs) : 0.343, R2: 0.793, f1: 0.448\n"
     ]
    },
    {
     "name": "stderr",
     "output_type": "stream",
     "text": [
      " 82%|████████▏ | 82/100 [15:07<03:12, 10.70s/it]"
     ]
    },
    {
     "name": "stdout",
     "output_type": "stream",
     "text": [
      "Epoch 82\n",
      "Train loss : 0.11919390906951585, dev loss : 0.30753298320116534\n",
      "Dev MSE (rounded outs) : 0.335, R2: 0.799, f1: 0.456\n"
     ]
    },
    {
     "name": "stderr",
     "output_type": "stream",
     "text": [
      " 83%|████████▎ | 83/100 [15:18<03:03, 10.80s/it]"
     ]
    },
    {
     "name": "stdout",
     "output_type": "stream",
     "text": [
      "Epoch 83\n",
      "Train loss : 0.12067474205076341, dev loss : 0.3076750073702105\n",
      "Dev MSE (rounded outs) : 0.340, R2: 0.799, f1: 0.446\n"
     ]
    },
    {
     "name": "stderr",
     "output_type": "stream",
     "text": [
      " 84%|████████▍ | 84/100 [15:29<02:51, 10.72s/it]"
     ]
    },
    {
     "name": "stdout",
     "output_type": "stream",
     "text": [
      "Epoch 84\n",
      "Train loss : 0.11332664395435879, dev loss : 0.31703016612558593\n",
      "Dev MSE (rounded outs) : 0.344, R2: 0.793, f1: 0.442\n"
     ]
    },
    {
     "name": "stderr",
     "output_type": "stream",
     "text": [
      " 85%|████████▌ | 85/100 [15:42<02:53, 11.59s/it]"
     ]
    },
    {
     "name": "stdout",
     "output_type": "stream",
     "text": [
      "Epoch 85\n",
      "Train loss : 0.11938891362163272, dev loss : 0.30650508103351437\n",
      "Dev MSE (rounded outs) : 0.338, R2: 0.800, f1: 0.441\n"
     ]
    },
    {
     "name": "stderr",
     "output_type": "stream",
     "text": [
      " 86%|████████▌ | 86/100 [15:59<03:03, 13.09s/it]"
     ]
    },
    {
     "name": "stdout",
     "output_type": "stream",
     "text": [
      "Epoch 86\n",
      "Train loss : 0.1167848070406101, dev loss : 0.3093952788941322\n",
      "Dev MSE (rounded outs) : 0.344, R2: 0.798, f1: 0.445\n"
     ]
    },
    {
     "name": "stderr",
     "output_type": "stream",
     "text": [
      " 87%|████████▋ | 87/100 [16:11<02:46, 12.81s/it]"
     ]
    },
    {
     "name": "stdout",
     "output_type": "stream",
     "text": [
      "Epoch 87\n",
      "Train loss : 0.1177560571698921, dev loss : 0.3202449902892113\n",
      "Dev MSE (rounded outs) : 0.347, R2: 0.791, f1: 0.442\n"
     ]
    },
    {
     "name": "stderr",
     "output_type": "stream",
     "text": [
      " 88%|████████▊ | 88/100 [16:22<02:26, 12.25s/it]"
     ]
    },
    {
     "name": "stdout",
     "output_type": "stream",
     "text": [
      "Epoch 88\n",
      "Train loss : 0.11405568495171932, dev loss : 0.3189288529176866\n",
      "Dev MSE (rounded outs) : 0.348, R2: 0.792, f1: 0.440\n"
     ]
    },
    {
     "name": "stderr",
     "output_type": "stream",
     "text": [
      " 89%|████████▉ | 89/100 [16:33<02:10, 11.88s/it]"
     ]
    },
    {
     "name": "stdout",
     "output_type": "stream",
     "text": [
      "Epoch 89\n",
      "Train loss : 0.11052929562895665, dev loss : 0.29619315747291813\n",
      "Dev MSE (rounded outs) : 0.333, R2: 0.807, f1: 0.453\n"
     ]
    },
    {
     "name": "stderr",
     "output_type": "stream",
     "text": [
      " 90%|█████████ | 90/100 [16:43<01:53, 11.38s/it]"
     ]
    },
    {
     "name": "stdout",
     "output_type": "stream",
     "text": [
      "Epoch 90\n",
      "Train loss : 0.11266105026080321, dev loss : 0.31659960794833397\n",
      "Dev MSE (rounded outs) : 0.340, R2: 0.793, f1: 0.452\n"
     ]
    },
    {
     "name": "stderr",
     "output_type": "stream",
     "text": [
      " 91%|█████████ | 91/100 [16:54<01:41, 11.25s/it]"
     ]
    },
    {
     "name": "stdout",
     "output_type": "stream",
     "text": [
      "Epoch 91\n",
      "Train loss : 0.11385813373115222, dev loss : 0.3110055239690888\n",
      "Dev MSE (rounded outs) : 0.340, R2: 0.797, f1: 0.439\n"
     ]
    },
    {
     "name": "stderr",
     "output_type": "stream",
     "text": [
      " 92%|█████████▏| 92/100 [17:06<01:30, 11.37s/it]"
     ]
    },
    {
     "name": "stdout",
     "output_type": "stream",
     "text": [
      "Epoch 92\n",
      "Train loss : 0.11384206357515111, dev loss : 0.3119425026159133\n",
      "Dev MSE (rounded outs) : 0.338, R2: 0.796, f1: 0.439\n"
     ]
    },
    {
     "name": "stderr",
     "output_type": "stream",
     "text": [
      " 93%|█████████▎| 93/100 [17:16<01:17, 11.00s/it]"
     ]
    },
    {
     "name": "stdout",
     "output_type": "stream",
     "text": [
      "Epoch 93\n",
      "Train loss : 0.10538752315926693, dev loss : 0.29653337525744594\n",
      "Dev MSE (rounded outs) : 0.338, R2: 0.806, f1: 0.442\n"
     ]
    },
    {
     "name": "stderr",
     "output_type": "stream",
     "text": [
      " 94%|█████████▍| 94/100 [17:26<01:04, 10.74s/it]"
     ]
    },
    {
     "name": "stdout",
     "output_type": "stream",
     "text": [
      "Epoch 94\n",
      "Train loss : 0.1111943533086391, dev loss : 0.3038226469389854\n",
      "Dev MSE (rounded outs) : 0.334, R2: 0.802, f1: 0.448\n"
     ]
    },
    {
     "name": "stderr",
     "output_type": "stream",
     "text": [
      " 95%|█████████▌| 95/100 [17:36<00:52, 10.58s/it]"
     ]
    },
    {
     "name": "stdout",
     "output_type": "stream",
     "text": [
      "Epoch 95\n",
      "Train loss : 0.1066050307582254, dev loss : 0.2997541634305831\n",
      "Dev MSE (rounded outs) : 0.348, R2: 0.804, f1: 0.429\n"
     ]
    },
    {
     "name": "stderr",
     "output_type": "stream",
     "text": [
      " 96%|█████████▌| 96/100 [17:47<00:43, 10.76s/it]"
     ]
    },
    {
     "name": "stdout",
     "output_type": "stream",
     "text": [
      "Epoch 96\n",
      "Train loss : 0.10981141259937949, dev loss : 0.3080783202763527\n",
      "Dev MSE (rounded outs) : 0.335, R2: 0.799, f1: 0.448\n"
     ]
    },
    {
     "name": "stderr",
     "output_type": "stream",
     "text": [
      " 97%|█████████▋| 97/100 [18:02<00:35, 11.83s/it]"
     ]
    },
    {
     "name": "stdout",
     "output_type": "stream",
     "text": [
      "Epoch 97\n",
      "Train loss : 0.10837856404439145, dev loss : 0.3059925422553093\n",
      "Dev MSE (rounded outs) : 0.335, R2: 0.800, f1: 0.448\n"
     ]
    },
    {
     "name": "stderr",
     "output_type": "stream",
     "text": [
      " 98%|█████████▊| 98/100 [18:13<00:23, 11.81s/it]"
     ]
    },
    {
     "name": "stdout",
     "output_type": "stream",
     "text": [
      "Epoch 98\n",
      "Train loss : 0.113283308856042, dev loss : 0.3152354396879673\n",
      "Dev MSE (rounded outs) : 0.341, R2: 0.794, f1: 0.436\n"
     ]
    },
    {
     "name": "stderr",
     "output_type": "stream",
     "text": [
      " 98%|█████████▊| 98/100 [18:24<00:22, 11.27s/it]"
     ]
    },
    {
     "name": "stdout",
     "output_type": "stream",
     "text": [
      "Epoch 99\n",
      "Train loss : 0.11071953717103825, dev loss : 0.30803804604276536\n",
      "Dev MSE (rounded outs) : 0.337, R2: 0.799, f1: 0.437\n",
      "Early stop.\n",
      "Best dev loss: 0.29619315747291813\n",
      "MSE: 0.333, r2: 0.807, f1 macro: 0.453\n",
      "              precision    recall  f1-score   support\n",
      "\n",
      "         0.0       1.00      0.97      0.98       702\n",
      "         1.0       0.00      0.00      0.00         0\n",
      "         2.0       0.34      0.62      0.44        93\n",
      "         3.0       0.61      0.29      0.39       192\n",
      "\n",
      "    accuracy                           0.80       987\n",
      "   macro avg       0.49      0.47      0.45       987\n",
      "weighted avg       0.86      0.80      0.82       987\n",
      "\n"
     ]
    },
    {
     "name": "stderr",
     "output_type": "stream",
     "text": [
      "\n"
     ]
    },
    {
     "data": {
      "text/plain": "<Figure size 432x288 with 0 Axes>"
     },
     "metadata": {},
     "output_type": "display_data"
    },
    {
     "data": {
      "text/plain": "<Figure size 432x288 with 1 Axes>",
      "image/png": "[encoded data removed]"
     },
     "metadata": {
      "needs_background": "light"
     },
     "output_type": "display_data"
    },
    {
     "data": {
      "text/plain": "<Figure size 432x288 with 0 Axes>"
     },
     "metadata": {},
     "output_type": "display_data"
    },
    {
     "data": {
      "text/plain": "<Figure size 432x288 with 1 Axes>",
      "image/png": "[encoded data removed]"
     },
     "metadata": {
      "needs_background": "light"
     },
     "output_type": "display_data"
    }
   ],
   "source": [
    "device = 'cuda:0'\n",
    "\n",
    "train_ds = TensorDataset(seq_x_train, seq_y_train)\n",
    "train_dl = DataLoader(train_ds, batch_size=32, shuffle=True)\n",
    "\n",
    "test_ds = TensorDataset(seq_x_test, seq_y_test)\n",
    "test_dl = DataLoader(test_ds, batch_size=32, shuffle=True)\n",
    "\n",
    "mcdLSTM_regr = MCDLSTM(no_layers=3, input_size=12, hidden_dim=64, output_dim=1, drop_prob=0.5, device=device).to(device)\n",
    "\n",
    "mse, r2, f1, report = train_mcdlstm(mcdLSTM_regr, train_dl, test_dl, regression=True,\n",
    "                                    epochs=100, lr=0.00001, patience=10,\n",
    "                                    save_prefix='models/lstm_model_regr_'+str(int(time.time())),\n",
    "                                    print_chart=True, print_progress=True, device=device)\n",
    "\n",
    "print(f'MSE: {mse:.3f}, r2: {r2:.3f}, f1 macro: {f1:.3f}')\n",
    "print(report)\n"
   ]
  },
  {
   "cell_type": "markdown",
   "metadata": {
    "pycharm": {
     "name": "#%% md\n"
    }
   },
   "source": [
    "## Z klasyfikacją, wstępne trenowanie"
   ]
  },
  {
   "cell_type": "code",
   "execution_count": 11,
   "metadata": {
    "pycharm": {
     "name": "#%%\n"
    }
   },
   "outputs": [
    {
     "name": "stderr",
     "output_type": "stream",
     "text": [
      "  1%|          | 1/100 [00:11<18:47, 11.38s/it]"
     ]
    },
    {
     "name": "stdout",
     "output_type": "stream",
     "text": [
      "Epoch 1\n",
      "Train loss : 1.4074045174677852, dev loss : 1.3622623951204362\n",
      "Dev MSE (rounded outs) : 2.128, R2: 0.111, f1: 0.277\n"
     ]
    },
    {
     "name": "stderr",
     "output_type": "stream",
     "text": [
      "  2%|▏         | 2/100 [00:21<17:39, 10.81s/it]"
     ]
    },
    {
     "name": "stdout",
     "output_type": "stream",
     "text": [
      "Epoch 2\n",
      "Train loss : 1.296038952269573, dev loss : 1.2191909051710559\n",
      "Dev MSE (rounded outs) : 2.128, R2: 0.204, f1: 0.277\n"
     ]
    },
    {
     "name": "stderr",
     "output_type": "stream",
     "text": [
      "  3%|▎         | 3/100 [00:32<17:05, 10.57s/it]"
     ]
    },
    {
     "name": "stdout",
     "output_type": "stream",
     "text": [
      "Epoch 3\n",
      "Train loss : 1.0358110687478257, dev loss : 0.954725040543464\n",
      "Dev MSE (rounded outs) : 2.128, R2: 0.377, f1: 0.277\n"
     ]
    },
    {
     "name": "stderr",
     "output_type": "stream",
     "text": [
      "  4%|▍         | 4/100 [00:42<16:46, 10.48s/it]"
     ]
    },
    {
     "name": "stdout",
     "output_type": "stream",
     "text": [
      "Epoch 4\n",
      "Train loss : 0.7569470707135709, dev loss : 0.9037231360712359\n",
      "Dev MSE (rounded outs) : 2.128, R2: 0.410, f1: 0.277\n"
     ]
    },
    {
     "name": "stderr",
     "output_type": "stream",
     "text": [
      "  5%|▌         | 5/100 [00:54<17:13, 10.88s/it]"
     ]
    },
    {
     "name": "stdout",
     "output_type": "stream",
     "text": [
      "Epoch 5\n",
      "Train loss : 0.6820017828536128, dev loss : 0.9029486371624854\n",
      "Dev MSE (rounded outs) : 2.128, R2: 0.410, f1: 0.277\n"
     ]
    },
    {
     "name": "stderr",
     "output_type": "stream",
     "text": [
      "  6%|▌         | 6/100 [01:04<16:57, 10.82s/it]"
     ]
    },
    {
     "name": "stdout",
     "output_type": "stream",
     "text": [
      "Epoch 6\n",
      "Train loss : 0.6514502994038842, dev loss : 0.8822879800873418\n",
      "Dev MSE (rounded outs) : 2.128, R2: 0.424, f1: 0.277\n"
     ]
    },
    {
     "name": "stderr",
     "output_type": "stream",
     "text": [
      "  7%|▋         | 7/100 [01:15<16:31, 10.66s/it]"
     ]
    },
    {
     "name": "stdout",
     "output_type": "stream",
     "text": [
      "Epoch 7\n",
      "Train loss : 0.6095422021013946, dev loss : 0.8573334438185538\n",
      "Dev MSE (rounded outs) : 2.128, R2: 0.440, f1: 0.277\n"
     ]
    },
    {
     "name": "stderr",
     "output_type": "stream",
     "text": [
      "  8%|▊         | 8/100 [01:25<16:10, 10.55s/it]"
     ]
    },
    {
     "name": "stdout",
     "output_type": "stream",
     "text": [
      "Epoch 8\n",
      "Train loss : 0.5749846838208527, dev loss : 0.8429235816001892\n",
      "Dev MSE (rounded outs) : 2.128, R2: 0.450, f1: 0.277\n"
     ]
    },
    {
     "name": "stderr",
     "output_type": "stream",
     "text": [
      "  9%|▉         | 9/100 [01:36<16:15, 10.71s/it]"
     ]
    },
    {
     "name": "stdout",
     "output_type": "stream",
     "text": [
      "Epoch 9\n",
      "Train loss : 0.5483006421520776, dev loss : 0.838176978211249\n",
      "Dev MSE (rounded outs) : 2.128, R2: 0.453, f1: 0.277\n"
     ]
    },
    {
     "name": "stderr",
     "output_type": "stream",
     "text": [
      " 10%|█         | 10/100 [01:46<15:59, 10.66s/it]"
     ]
    },
    {
     "name": "stdout",
     "output_type": "stream",
     "text": [
      "Epoch 10\n",
      "Train loss : 0.5323560949959774, dev loss : 0.8419422920673124\n",
      "Dev MSE (rounded outs) : 2.128, R2: 0.450, f1: 0.277\n"
     ]
    },
    {
     "name": "stderr",
     "output_type": "stream",
     "text": [
      " 11%|█         | 11/100 [01:59<16:32, 11.15s/it]"
     ]
    },
    {
     "name": "stdout",
     "output_type": "stream",
     "text": [
      "Epoch 11\n",
      "Train loss : 0.5225164065130143, dev loss : 0.8402168356603191\n",
      "Dev MSE (rounded outs) : 2.128, R2: 0.451, f1: 0.277\n"
     ]
    },
    {
     "name": "stderr",
     "output_type": "stream",
     "text": [
      " 12%|█▏        | 12/100 [02:09<15:59, 10.91s/it]"
     ]
    },
    {
     "name": "stdout",
     "output_type": "stream",
     "text": [
      "Epoch 12\n",
      "Train loss : 0.5111310049125799, dev loss : 0.8437475792823299\n",
      "Dev MSE (rounded outs) : 2.128, R2: 0.449, f1: 0.277\n"
     ]
    },
    {
     "name": "stderr",
     "output_type": "stream",
     "text": [
      " 13%|█▎        | 13/100 [02:21<16:13, 11.18s/it]"
     ]
    },
    {
     "name": "stdout",
     "output_type": "stream",
     "text": [
      "Epoch 13\n",
      "Train loss : 0.5062105617386551, dev loss : 0.8401200415626648\n",
      "Dev MSE (rounded outs) : 2.128, R2: 0.451, f1: 0.277\n"
     ]
    },
    {
     "name": "stderr",
     "output_type": "stream",
     "text": [
      " 14%|█▍        | 14/100 [02:31<15:37, 10.90s/it]"
     ]
    },
    {
     "name": "stdout",
     "output_type": "stream",
     "text": [
      "Epoch 14\n",
      "Train loss : 0.49729023066905176, dev loss : 0.8356044869269094\n",
      "Dev MSE (rounded outs) : 2.128, R2: 0.454, f1: 0.277\n"
     ]
    },
    {
     "name": "stderr",
     "output_type": "stream",
     "text": [
      " 15%|█▌        | 15/100 [02:41<15:11, 10.72s/it]"
     ]
    },
    {
     "name": "stdout",
     "output_type": "stream",
     "text": [
      "Epoch 15\n",
      "Train loss : 0.49331755629876856, dev loss : 0.8306383509789744\n",
      "Dev MSE (rounded outs) : 2.128, R2: 0.458, f1: 0.277\n"
     ]
    },
    {
     "name": "stderr",
     "output_type": "stream",
     "text": [
      " 16%|█▌        | 16/100 [02:53<15:09, 10.83s/it]"
     ]
    },
    {
     "name": "stdout",
     "output_type": "stream",
     "text": [
      "Epoch 16\n",
      "Train loss : 0.48825227030416724, dev loss : 0.8260926911907811\n",
      "Dev MSE (rounded outs) : 2.128, R2: 0.461, f1: 0.277\n"
     ]
    },
    {
     "name": "stderr",
     "output_type": "stream",
     "text": [
      " 17%|█▋        | 17/100 [03:03<14:48, 10.71s/it]"
     ]
    },
    {
     "name": "stdout",
     "output_type": "stream",
     "text": [
      "Epoch 17\n",
      "Train loss : 0.4802446403051082, dev loss : 0.8099991852237333\n",
      "Dev MSE (rounded outs) : 2.128, R2: 0.471, f1: 0.277\n"
     ]
    },
    {
     "name": "stderr",
     "output_type": "stream",
     "text": [
      " 18%|█▊        | 18/100 [03:13<14:27, 10.58s/it]"
     ]
    },
    {
     "name": "stdout",
     "output_type": "stream",
     "text": [
      "Epoch 18\n",
      "Train loss : 0.47271816338239453, dev loss : 0.8033562206452892\n",
      "Dev MSE (rounded outs) : 2.128, R2: 0.475, f1: 0.277\n"
     ]
    },
    {
     "name": "stderr",
     "output_type": "stream",
     "text": [
      " 19%|█▉        | 19/100 [03:24<14:11, 10.52s/it]"
     ]
    },
    {
     "name": "stdout",
     "output_type": "stream",
     "text": [
      "Epoch 19\n",
      "Train loss : 0.46667400547284854, dev loss : 0.7953826958133329\n",
      "Dev MSE (rounded outs) : 2.128, R2: 0.481, f1: 0.277\n"
     ]
    },
    {
     "name": "stderr",
     "output_type": "stream",
     "text": [
      " 20%|██        | 20/100 [03:34<14:00, 10.51s/it]"
     ]
    },
    {
     "name": "stdout",
     "output_type": "stream",
     "text": [
      "Epoch 20\n",
      "Train loss : 0.46076314510564087, dev loss : 0.7785838342482044\n",
      "Dev MSE (rounded outs) : 2.128, R2: 0.492, f1: 0.277\n"
     ]
    },
    {
     "name": "stderr",
     "output_type": "stream",
     "text": [
      " 21%|██        | 21/100 [03:45<13:48, 10.49s/it]"
     ]
    },
    {
     "name": "stdout",
     "output_type": "stream",
     "text": [
      "Epoch 21\n",
      "Train loss : 0.4527604353757715, dev loss : 0.7617880423222819\n",
      "Dev MSE (rounded outs) : 2.079, R2: 0.503, f1: 0.278\n"
     ]
    },
    {
     "name": "stderr",
     "output_type": "stream",
     "text": [
      " 22%|██▏       | 22/100 [03:55<13:35, 10.45s/it]"
     ]
    },
    {
     "name": "stdout",
     "output_type": "stream",
     "text": [
      "Epoch 22\n",
      "Train loss : 0.4432093866846778, dev loss : 0.7479292952245281\n",
      "Dev MSE (rounded outs) : 1.812, R2: 0.512, f1: 0.284\n"
     ]
    },
    {
     "name": "stderr",
     "output_type": "stream",
     "text": [
      " 23%|██▎       | 23/100 [04:05<13:21, 10.41s/it]"
     ]
    },
    {
     "name": "stdout",
     "output_type": "stream",
     "text": [
      "Epoch 23\n",
      "Train loss : 0.43270828336359485, dev loss : 0.7360942815580676\n",
      "Dev MSE (rounded outs) : 1.350, R2: 0.519, f1: 0.363\n"
     ]
    },
    {
     "name": "stderr",
     "output_type": "stream",
     "text": [
      " 24%|██▍       | 24/100 [04:15<13:06, 10.35s/it]"
     ]
    },
    {
     "name": "stdout",
     "output_type": "stream",
     "text": [
      "Epoch 24\n",
      "Train loss : 0.43192085988907947, dev loss : 0.7293155952807395\n",
      "Dev MSE (rounded outs) : 0.868, R2: 0.524, f1: 0.630\n"
     ]
    },
    {
     "name": "stderr",
     "output_type": "stream",
     "text": [
      " 25%|██▌       | 25/100 [04:26<12:52, 10.30s/it]"
     ]
    },
    {
     "name": "stdout",
     "output_type": "stream",
     "text": [
      "Epoch 25\n",
      "Train loss : 0.42454121662340616, dev loss : 0.7049214541912079\n",
      "Dev MSE (rounded outs) : 0.998, R2: 0.540, f1: 0.490\n"
     ]
    },
    {
     "name": "stderr",
     "output_type": "stream",
     "text": [
      " 26%|██▌       | 26/100 [04:39<13:51, 11.24s/it]"
     ]
    },
    {
     "name": "stdout",
     "output_type": "stream",
     "text": [
      "Epoch 26\n",
      "Train loss : 0.4167918027507458, dev loss : 0.6953495962004508\n",
      "Dev MSE (rounded outs) : 0.895, R2: 0.546, f1: 0.588\n"
     ]
    },
    {
     "name": "stderr",
     "output_type": "stream",
     "text": [
      " 27%|██▋       | 27/100 [04:50<13:35, 11.18s/it]"
     ]
    },
    {
     "name": "stdout",
     "output_type": "stream",
     "text": [
      "Epoch 27\n",
      "Train loss : 0.41415592200553464, dev loss : 0.6730050185034352\n",
      "Dev MSE (rounded outs) : 0.823, R2: 0.561, f1: 0.630\n"
     ]
    },
    {
     "name": "stderr",
     "output_type": "stream",
     "text": [
      " 28%|██▊       | 28/100 [05:00<13:05, 10.91s/it]"
     ]
    },
    {
     "name": "stdout",
     "output_type": "stream",
     "text": [
      "Epoch 28\n",
      "Train loss : 0.41191595674974646, dev loss : 0.6673810313786229\n",
      "Dev MSE (rounded outs) : 0.721, R2: 0.564, f1: 0.669\n"
     ]
    },
    {
     "name": "stderr",
     "output_type": "stream",
     "text": [
      " 29%|██▉       | 29/100 [05:11<12:55, 10.92s/it]"
     ]
    },
    {
     "name": "stdout",
     "output_type": "stream",
     "text": [
      "Epoch 29\n",
      "Train loss : 0.3996502699352536, dev loss : 0.6658406094197304\n",
      "Dev MSE (rounded outs) : 0.610, R2: 0.565, f1: 0.714\n"
     ]
    },
    {
     "name": "stderr",
     "output_type": "stream",
     "text": [
      " 30%|███       | 30/100 [05:22<12:45, 10.94s/it]"
     ]
    },
    {
     "name": "stdout",
     "output_type": "stream",
     "text": [
      "Epoch 30\n",
      "Train loss : 0.4003834487656831, dev loss : 0.6597462911759654\n",
      "Dev MSE (rounded outs) : 0.612, R2: 0.569, f1: 0.716\n"
     ]
    },
    {
     "name": "stderr",
     "output_type": "stream",
     "text": [
      " 31%|███       | 31/100 [05:33<12:21, 10.74s/it]"
     ]
    },
    {
     "name": "stdout",
     "output_type": "stream",
     "text": [
      "Epoch 31\n",
      "Train loss : 0.3923661172272188, dev loss : 0.6364251125243402\n",
      "Dev MSE (rounded outs) : 0.611, R2: 0.584, f1: 0.722\n"
     ]
    },
    {
     "name": "stderr",
     "output_type": "stream",
     "text": [
      " 32%|███▏      | 32/100 [05:43<12:00, 10.59s/it]"
     ]
    },
    {
     "name": "stdout",
     "output_type": "stream",
     "text": [
      "Epoch 32\n",
      "Train loss : 0.3883725304318511, dev loss : 0.6378748378446025\n",
      "Dev MSE (rounded outs) : 0.608, R2: 0.584, f1: 0.715\n"
     ]
    },
    {
     "name": "stderr",
     "output_type": "stream",
     "text": [
      " 33%|███▎      | 33/100 [05:54<11:59, 10.74s/it]"
     ]
    },
    {
     "name": "stdout",
     "output_type": "stream",
     "text": [
      "Epoch 33\n",
      "Train loss : 0.3860946830376806, dev loss : 0.6187100564279864\n",
      "Dev MSE (rounded outs) : 0.589, R2: 0.596, f1: 0.740\n"
     ]
    },
    {
     "name": "stderr",
     "output_type": "stream",
     "text": [
      " 34%|███▍      | 34/100 [06:04<11:40, 10.62s/it]"
     ]
    },
    {
     "name": "stdout",
     "output_type": "stream",
     "text": [
      "Epoch 34\n",
      "Train loss : 0.38839708144956897, dev loss : 0.6224109506414782\n",
      "Dev MSE (rounded outs) : 0.604, R2: 0.594, f1: 0.725\n"
     ]
    },
    {
     "name": "stderr",
     "output_type": "stream",
     "text": [
      " 35%|███▌      | 35/100 [06:15<11:38, 10.74s/it]"
     ]
    },
    {
     "name": "stdout",
     "output_type": "stream",
     "text": [
      "Epoch 35\n",
      "Train loss : 0.378363708262387, dev loss : 0.6214991630085053\n",
      "Dev MSE (rounded outs) : 0.603, R2: 0.594, f1: 0.714\n"
     ]
    },
    {
     "name": "stderr",
     "output_type": "stream",
     "text": [
      " 36%|███▌      | 36/100 [06:26<11:33, 10.84s/it]"
     ]
    },
    {
     "name": "stdout",
     "output_type": "stream",
     "text": [
      "Epoch 36\n",
      "Train loss : 0.3718066127462821, dev loss : 0.6069173476388378\n",
      "Dev MSE (rounded outs) : 0.596, R2: 0.604, f1: 0.724\n"
     ]
    },
    {
     "name": "stderr",
     "output_type": "stream",
     "text": [
      " 37%|███▋      | 37/100 [06:37<11:27, 10.92s/it]"
     ]
    },
    {
     "name": "stdout",
     "output_type": "stream",
     "text": [
      "Epoch 37\n",
      "Train loss : 0.37215639397560846, dev loss : 0.6218641659905834\n",
      "Dev MSE (rounded outs) : 0.597, R2: 0.594, f1: 0.723\n"
     ]
    },
    {
     "name": "stderr",
     "output_type": "stream",
     "text": [
      " 38%|███▊      | 38/100 [06:48<11:05, 10.73s/it]"
     ]
    },
    {
     "name": "stdout",
     "output_type": "stream",
     "text": [
      "Epoch 38\n",
      "Train loss : 0.36756396546900977, dev loss : 0.5993483032911054\n",
      "Dev MSE (rounded outs) : 0.599, R2: 0.609, f1: 0.722\n"
     ]
    },
    {
     "name": "stderr",
     "output_type": "stream",
     "text": [
      " 39%|███▉      | 39/100 [06:59<11:01, 10.84s/it]"
     ]
    },
    {
     "name": "stdout",
     "output_type": "stream",
     "text": [
      "Epoch 39\n",
      "Train loss : 0.36769296661785, dev loss : 0.6021167957975019\n",
      "Dev MSE (rounded outs) : 0.596, R2: 0.607, f1: 0.726\n"
     ]
    },
    {
     "name": "stderr",
     "output_type": "stream",
     "text": [
      " 40%|████      | 40/100 [07:09<10:42, 10.72s/it]"
     ]
    },
    {
     "name": "stdout",
     "output_type": "stream",
     "text": [
      "Epoch 40\n",
      "Train loss : 0.361913460928932, dev loss : 0.6089826976099322\n",
      "Dev MSE (rounded outs) : 0.593, R2: 0.602, f1: 0.714\n"
     ]
    },
    {
     "name": "stderr",
     "output_type": "stream",
     "text": [
      " 41%|████      | 41/100 [07:20<10:40, 10.85s/it]"
     ]
    },
    {
     "name": "stdout",
     "output_type": "stream",
     "text": [
      "Epoch 41\n",
      "Train loss : 0.3681930501470453, dev loss : 0.5984038725014655\n",
      "Dev MSE (rounded outs) : 0.594, R2: 0.609, f1: 0.718\n"
     ]
    },
    {
     "name": "stderr",
     "output_type": "stream",
     "text": [
      " 42%|████▏     | 42/100 [07:31<10:20, 10.69s/it]"
     ]
    },
    {
     "name": "stdout",
     "output_type": "stream",
     "text": [
      "Epoch 42\n",
      "Train loss : 0.35596679357200744, dev loss : 0.5969397714061122\n",
      "Dev MSE (rounded outs) : 0.599, R2: 0.610, f1: 0.712\n"
     ]
    },
    {
     "name": "stderr",
     "output_type": "stream",
     "text": [
      " 43%|████▎     | 43/100 [07:43<10:35, 11.15s/it]"
     ]
    },
    {
     "name": "stdout",
     "output_type": "stream",
     "text": [
      "Epoch 43\n",
      "Train loss : 0.3567095860956686, dev loss : 0.6045555573317313\n",
      "Dev MSE (rounded outs) : 0.605, R2: 0.605, f1: 0.704\n"
     ]
    },
    {
     "name": "stderr",
     "output_type": "stream",
     "text": [
      " 44%|████▍     | 44/100 [07:57<11:11, 11.99s/it]"
     ]
    },
    {
     "name": "stdout",
     "output_type": "stream",
     "text": [
      "Epoch 44\n",
      "Train loss : 0.3531373637643727, dev loss : 0.6013563837735884\n",
      "Dev MSE (rounded outs) : 0.604, R2: 0.607, f1: 0.703\n"
     ]
    },
    {
     "name": "stderr",
     "output_type": "stream",
     "text": [
      " 45%|████▌     | 45/100 [08:10<11:10, 12.19s/it]"
     ]
    },
    {
     "name": "stdout",
     "output_type": "stream",
     "text": [
      "Epoch 45\n",
      "Train loss : 0.3585199136507841, dev loss : 0.6013483462795135\n",
      "Dev MSE (rounded outs) : 0.611, R2: 0.607, f1: 0.698\n"
     ]
    },
    {
     "name": "stderr",
     "output_type": "stream",
     "text": [
      " 46%|████▌     | 46/100 [08:22<10:57, 12.17s/it]"
     ]
    },
    {
     "name": "stdout",
     "output_type": "stream",
     "text": [
      "Epoch 46\n",
      "Train loss : 0.35474955031405325, dev loss : 0.5820075023558832\n",
      "Dev MSE (rounded outs) : 0.598, R2: 0.620, f1: 0.714\n"
     ]
    },
    {
     "name": "stderr",
     "output_type": "stream",
     "text": [
      " 47%|████▋     | 47/100 [08:32<10:15, 11.62s/it]"
     ]
    },
    {
     "name": "stdout",
     "output_type": "stream",
     "text": [
      "Epoch 47\n",
      "Train loss : 0.3471523743019745, dev loss : 0.5956922252812693\n",
      "Dev MSE (rounded outs) : 0.602, R2: 0.611, f1: 0.700\n"
     ]
    },
    {
     "name": "stderr",
     "output_type": "stream",
     "text": [
      " 48%|████▊     | 48/100 [08:43<09:56, 11.47s/it]"
     ]
    },
    {
     "name": "stdout",
     "output_type": "stream",
     "text": [
      "Epoch 48\n",
      "Train loss : 0.34834373960264114, dev loss : 0.5748557539716843\n",
      "Dev MSE (rounded outs) : 0.597, R2: 0.625, f1: 0.706\n"
     ]
    },
    {
     "name": "stderr",
     "output_type": "stream",
     "text": [
      " 49%|████▉     | 49/100 [08:56<10:03, 11.84s/it]"
     ]
    },
    {
     "name": "stdout",
     "output_type": "stream",
     "text": [
      "Epoch 49\n",
      "Train loss : 0.34464698479227396, dev loss : 0.5911035037809803\n",
      "Dev MSE (rounded outs) : 0.600, R2: 0.614, f1: 0.711\n"
     ]
    },
    {
     "name": "stderr",
     "output_type": "stream",
     "text": [
      " 50%|█████     | 50/100 [09:06<09:28, 11.37s/it]"
     ]
    },
    {
     "name": "stdout",
     "output_type": "stream",
     "text": [
      "Epoch 50\n",
      "Train loss : 0.34227095099659305, dev loss : 0.5930460326133236\n",
      "Dev MSE (rounded outs) : 0.602, R2: 0.613, f1: 0.700\n"
     ]
    },
    {
     "name": "stderr",
     "output_type": "stream",
     "text": [
      " 51%|█████     | 51/100 [09:17<09:12, 11.28s/it]"
     ]
    },
    {
     "name": "stdout",
     "output_type": "stream",
     "text": [
      "Epoch 51\n",
      "Train loss : 0.3374245060173419, dev loss : 0.5951481673025316\n",
      "Dev MSE (rounded outs) : 0.598, R2: 0.611, f1: 0.701\n"
     ]
    },
    {
     "name": "stderr",
     "output_type": "stream",
     "text": [
      " 52%|█████▏    | 52/100 [09:28<08:58, 11.22s/it]"
     ]
    },
    {
     "name": "stdout",
     "output_type": "stream",
     "text": [
      "Epoch 52\n",
      "Train loss : 0.3355831828689858, dev loss : 0.5759141036579686\n",
      "Dev MSE (rounded outs) : 0.593, R2: 0.624, f1: 0.702\n"
     ]
    },
    {
     "name": "stderr",
     "output_type": "stream",
     "text": [
      " 53%|█████▎    | 53/100 [09:41<09:12, 11.76s/it]"
     ]
    },
    {
     "name": "stdout",
     "output_type": "stream",
     "text": [
      "Epoch 53\n",
      "Train loss : 0.34020195082713495, dev loss : 0.5841067279538801\n",
      "Dev MSE (rounded outs) : 0.598, R2: 0.619, f1: 0.700\n"
     ]
    },
    {
     "name": "stderr",
     "output_type": "stream",
     "text": [
      " 54%|█████▍    | 54/100 [09:52<08:49, 11.51s/it]"
     ]
    },
    {
     "name": "stdout",
     "output_type": "stream",
     "text": [
      "Epoch 54\n",
      "Train loss : 0.33616017538450454, dev loss : 0.5626795090013935\n",
      "Dev MSE (rounded outs) : 0.587, R2: 0.633, f1: 0.707\n"
     ]
    },
    {
     "name": "stderr",
     "output_type": "stream",
     "text": [
      " 55%|█████▌    | 55/100 [10:05<08:50, 11.79s/it]"
     ]
    },
    {
     "name": "stdout",
     "output_type": "stream",
     "text": [
      "Epoch 55\n",
      "Train loss : 0.33828068224219937, dev loss : 0.5757853566638885\n",
      "Dev MSE (rounded outs) : 0.596, R2: 0.624, f1: 0.694\n"
     ]
    },
    {
     "name": "stderr",
     "output_type": "stream",
     "text": [
      " 56%|█████▌    | 56/100 [10:18<08:59, 12.26s/it]"
     ]
    },
    {
     "name": "stdout",
     "output_type": "stream",
     "text": [
      "Epoch 56\n",
      "Train loss : 0.32968338908767514, dev loss : 0.577160810270617\n",
      "Dev MSE (rounded outs) : 0.591, R2: 0.623, f1: 0.698\n"
     ]
    },
    {
     "name": "stderr",
     "output_type": "stream",
     "text": [
      " 57%|█████▋    | 57/100 [10:29<08:32, 11.92s/it]"
     ]
    },
    {
     "name": "stdout",
     "output_type": "stream",
     "text": [
      "Epoch 57\n",
      "Train loss : 0.33026536215435376, dev loss : 0.5614937803437633\n",
      "Dev MSE (rounded outs) : 0.589, R2: 0.633, f1: 0.702\n"
     ]
    },
    {
     "name": "stderr",
     "output_type": "stream",
     "text": [
      " 58%|█████▊    | 58/100 [10:40<08:00, 11.45s/it]"
     ]
    },
    {
     "name": "stdout",
     "output_type": "stream",
     "text": [
      "Epoch 58\n",
      "Train loss : 0.32868179107607587, dev loss : 0.564196232826479\n",
      "Dev MSE (rounded outs) : 0.585, R2: 0.632, f1: 0.708\n"
     ]
    },
    {
     "name": "stderr",
     "output_type": "stream",
     "text": [
      " 59%|█████▉    | 59/100 [10:50<07:36, 11.14s/it]"
     ]
    },
    {
     "name": "stdout",
     "output_type": "stream",
     "text": [
      "Epoch 59\n",
      "Train loss : 0.3236298891365999, dev loss : 0.5797849682069594\n",
      "Dev MSE (rounded outs) : 0.593, R2: 0.621, f1: 0.693\n"
     ]
    },
    {
     "name": "stderr",
     "output_type": "stream",
     "text": [
      " 60%|██████    | 60/100 [11:00<07:16, 10.90s/it]"
     ]
    },
    {
     "name": "stdout",
     "output_type": "stream",
     "text": [
      "Epoch 60\n",
      "Train loss : 0.32965008331381757, dev loss : 0.5481220108847464\n",
      "Dev MSE (rounded outs) : 0.586, R2: 0.642, f1: 0.703\n"
     ]
    },
    {
     "name": "stderr",
     "output_type": "stream",
     "text": [
      " 61%|██████    | 61/100 [11:11<07:08, 10.98s/it]"
     ]
    },
    {
     "name": "stdout",
     "output_type": "stream",
     "text": [
      "Epoch 61\n",
      "Train loss : 0.3269057047696924, dev loss : 0.5620787167741407\n",
      "Dev MSE (rounded outs) : 0.584, R2: 0.633, f1: 0.695\n"
     ]
    },
    {
     "name": "stderr",
     "output_type": "stream",
     "text": [
      " 62%|██████▏   | 62/100 [11:22<06:51, 10.82s/it]"
     ]
    },
    {
     "name": "stdout",
     "output_type": "stream",
     "text": [
      "Epoch 62\n",
      "Train loss : 0.3237116473465569, dev loss : 0.5488801877344808\n",
      "Dev MSE (rounded outs) : 0.588, R2: 0.642, f1: 0.697\n"
     ]
    },
    {
     "name": "stderr",
     "output_type": "stream",
     "text": [
      " 63%|██████▎   | 63/100 [11:33<06:46, 10.98s/it]"
     ]
    },
    {
     "name": "stdout",
     "output_type": "stream",
     "text": [
      "Epoch 63\n",
      "Train loss : 0.32279551285411057, dev loss : 0.5508233577974381\n",
      "Dev MSE (rounded outs) : 0.584, R2: 0.640, f1: 0.695\n"
     ]
    },
    {
     "name": "stderr",
     "output_type": "stream",
     "text": [
      " 64%|██████▍   | 64/100 [11:44<06:37, 11.05s/it]"
     ]
    },
    {
     "name": "stdout",
     "output_type": "stream",
     "text": [
      "Epoch 64\n",
      "Train loss : 0.3136707550069325, dev loss : 0.5552838040936378\n",
      "Dev MSE (rounded outs) : 0.595, R2: 0.637, f1: 0.683\n"
     ]
    },
    {
     "name": "stderr",
     "output_type": "stream",
     "text": [
      " 65%|██████▌   | 65/100 [11:55<06:19, 10.84s/it]"
     ]
    },
    {
     "name": "stdout",
     "output_type": "stream",
     "text": [
      "Epoch 65\n",
      "Train loss : 0.3191358124020071, dev loss : 0.5457344329164874\n",
      "Dev MSE (rounded outs) : 0.588, R2: 0.644, f1: 0.678\n"
     ]
    },
    {
     "name": "stderr",
     "output_type": "stream",
     "text": [
      " 66%|██████▌   | 66/100 [12:05<06:03, 10.70s/it]"
     ]
    },
    {
     "name": "stdout",
     "output_type": "stream",
     "text": [
      "Epoch 66\n",
      "Train loss : 0.31573745916071144, dev loss : 0.5673898343117006\n",
      "Dev MSE (rounded outs) : 0.574, R2: 0.630, f1: 0.698\n"
     ]
    },
    {
     "name": "stderr",
     "output_type": "stream",
     "text": [
      " 67%|██████▋   | 67/100 [12:20<06:29, 11.79s/it]"
     ]
    },
    {
     "name": "stdout",
     "output_type": "stream",
     "text": [
      "Epoch 67\n",
      "Train loss : 0.3118886245421977, dev loss : 0.5662661526472338\n",
      "Dev MSE (rounded outs) : 0.584, R2: 0.630, f1: 0.686\n"
     ]
    },
    {
     "name": "stderr",
     "output_type": "stream",
     "text": [
      " 68%|██████▊   | 68/100 [12:30<06:04, 11.38s/it]"
     ]
    },
    {
     "name": "stdout",
     "output_type": "stream",
     "text": [
      "Epoch 68\n",
      "Train loss : 0.3153820756690304, dev loss : 0.5436596139784782\n",
      "Dev MSE (rounded outs) : 0.592, R2: 0.645, f1: 0.670\n"
     ]
    },
    {
     "name": "stderr",
     "output_type": "stream",
     "text": [
      " 69%|██████▉   | 69/100 [12:41<05:50, 11.32s/it]"
     ]
    },
    {
     "name": "stdout",
     "output_type": "stream",
     "text": [
      "Epoch 69\n",
      "Train loss : 0.3136373972998777, dev loss : 0.5536709432640383\n",
      "Dev MSE (rounded outs) : 0.581, R2: 0.639, f1: 0.511\n"
     ]
    },
    {
     "name": "stderr",
     "output_type": "stream",
     "text": [
      " 70%|███████   | 70/100 [12:55<05:59, 11.99s/it]"
     ]
    },
    {
     "name": "stdout",
     "output_type": "stream",
     "text": [
      "Epoch 70\n",
      "Train loss : 0.30921128819229105, dev loss : 0.5425186474477092\n",
      "Dev MSE (rounded outs) : 0.593, R2: 0.646, f1: 0.526\n"
     ]
    },
    {
     "name": "stderr",
     "output_type": "stream",
     "text": [
      " 71%|███████   | 71/100 [13:08<06:01, 12.45s/it]"
     ]
    },
    {
     "name": "stdout",
     "output_type": "stream",
     "text": [
      "Epoch 71\n",
      "Train loss : 0.3111147598138911, dev loss : 0.518524516974726\n",
      "Dev MSE (rounded outs) : 0.592, R2: 0.661, f1: 0.508\n"
     ]
    },
    {
     "name": "stderr",
     "output_type": "stream",
     "text": [
      " 72%|███████▏  | 72/100 [13:19<05:32, 11.86s/it]"
     ]
    },
    {
     "name": "stdout",
     "output_type": "stream",
     "text": [
      "Epoch 72\n",
      "Train loss : 0.30458909358549496, dev loss : 0.531921271835604\n",
      "Dev MSE (rounded outs) : 0.580, R2: 0.653, f1: 0.500\n"
     ]
    },
    {
     "name": "stderr",
     "output_type": "stream",
     "text": [
      " 73%|███████▎  | 73/100 [13:29<05:08, 11.43s/it]"
     ]
    },
    {
     "name": "stdout",
     "output_type": "stream",
     "text": [
      "Epoch 73\n",
      "Train loss : 0.306936259915235, dev loss : 0.5201935691218222\n",
      "Dev MSE (rounded outs) : 0.579, R2: 0.660, f1: 0.499\n"
     ]
    },
    {
     "name": "stderr",
     "output_type": "stream",
     "text": [
      " 74%|███████▍  | 74/100 [13:40<04:54, 11.34s/it]"
     ]
    },
    {
     "name": "stdout",
     "output_type": "stream",
     "text": [
      "Epoch 74\n",
      "Train loss : 0.3016630418510305, dev loss : 0.529314152656063\n",
      "Dev MSE (rounded outs) : 0.576, R2: 0.654, f1: 0.500\n"
     ]
    },
    {
     "name": "stderr",
     "output_type": "stream",
     "text": [
      " 75%|███████▌  | 75/100 [13:51<04:37, 11.09s/it]"
     ]
    },
    {
     "name": "stdout",
     "output_type": "stream",
     "text": [
      "Epoch 75\n",
      "Train loss : 0.2965656229747614, dev loss : 0.5228883585622234\n",
      "Dev MSE (rounded outs) : 0.574, R2: 0.659, f1: 0.496\n"
     ]
    },
    {
     "name": "stderr",
     "output_type": "stream",
     "text": [
      " 76%|███████▌  | 76/100 [14:02<04:27, 11.15s/it]"
     ]
    },
    {
     "name": "stdout",
     "output_type": "stream",
     "text": [
      "Epoch 76\n",
      "Train loss : 0.30304056438414945, dev loss : 0.5385792942777756\n",
      "Dev MSE (rounded outs) : 0.575, R2: 0.648, f1: 0.503\n"
     ]
    },
    {
     "name": "stderr",
     "output_type": "stream",
     "text": [
      " 77%|███████▋  | 77/100 [14:13<04:16, 11.15s/it]"
     ]
    },
    {
     "name": "stdout",
     "output_type": "stream",
     "text": [
      "Epoch 77\n",
      "Train loss : 0.2969247399288204, dev loss : 0.5527594767270549\n",
      "Dev MSE (rounded outs) : 0.571, R2: 0.639, f1: 0.504\n"
     ]
    },
    {
     "name": "stderr",
     "output_type": "stream",
     "text": [
      " 78%|███████▊  | 78/100 [14:24<04:05, 11.14s/it]"
     ]
    },
    {
     "name": "stdout",
     "output_type": "stream",
     "text": [
      "Epoch 78\n",
      "Train loss : 0.29362606959557347, dev loss : 0.5290581487840221\n",
      "Dev MSE (rounded outs) : 0.569, R2: 0.655, f1: 0.499\n"
     ]
    },
    {
     "name": "stderr",
     "output_type": "stream",
     "text": [
      " 79%|███████▉  | 79/100 [14:36<03:59, 11.39s/it]"
     ]
    },
    {
     "name": "stdout",
     "output_type": "stream",
     "text": [
      "Epoch 79\n",
      "Train loss : 0.2933320469800898, dev loss : 0.5269943355552612\n",
      "Dev MSE (rounded outs) : 0.558, R2: 0.656, f1: 0.493\n"
     ]
    },
    {
     "name": "stderr",
     "output_type": "stream",
     "text": [
      " 80%|████████  | 80/100 [14:47<03:41, 11.08s/it]"
     ]
    },
    {
     "name": "stdout",
     "output_type": "stream",
     "text": [
      "Epoch 80\n",
      "Train loss : 0.2853266382553125, dev loss : 0.5156477617640649\n",
      "Dev MSE (rounded outs) : 0.544, R2: 0.663, f1: 0.491\n"
     ]
    },
    {
     "name": "stderr",
     "output_type": "stream",
     "text": [
      " 81%|████████  | 81/100 [14:57<03:26, 10.88s/it]"
     ]
    },
    {
     "name": "stdout",
     "output_type": "stream",
     "text": [
      "Epoch 81\n",
      "Train loss : 0.29180860104179196, dev loss : 0.5458690394316951\n",
      "Dev MSE (rounded outs) : 0.561, R2: 0.644, f1: 0.489\n"
     ]
    },
    {
     "name": "stderr",
     "output_type": "stream",
     "text": [
      " 82%|████████▏ | 82/100 [15:07<03:12, 10.71s/it]"
     ]
    },
    {
     "name": "stdout",
     "output_type": "stream",
     "text": [
      "Epoch 82\n",
      "Train loss : 0.29427726083829, dev loss : 0.5390049637325348\n",
      "Dev MSE (rounded outs) : 0.553, R2: 0.648, f1: 0.485\n"
     ]
    },
    {
     "name": "stderr",
     "output_type": "stream",
     "text": [
      " 83%|████████▎ | 83/100 [15:22<03:20, 11.80s/it]"
     ]
    },
    {
     "name": "stdout",
     "output_type": "stream",
     "text": [
      "Epoch 83\n",
      "Train loss : 0.2876167989118768, dev loss : 0.530524137520021\n",
      "Dev MSE (rounded outs) : 0.557, R2: 0.654, f1: 0.490\n"
     ]
    },
    {
     "name": "stderr",
     "output_type": "stream",
     "text": [
      " 84%|████████▍ | 84/100 [15:33<03:05, 11.62s/it]"
     ]
    },
    {
     "name": "stdout",
     "output_type": "stream",
     "text": [
      "Epoch 84\n",
      "Train loss : 0.2869373185361327, dev loss : 0.553903944550022\n",
      "Dev MSE (rounded outs) : 0.547, R2: 0.638, f1: 0.478\n"
     ]
    },
    {
     "name": "stderr",
     "output_type": "stream",
     "text": [
      " 85%|████████▌ | 85/100 [15:44<02:49, 11.32s/it]"
     ]
    },
    {
     "name": "stdout",
     "output_type": "stream",
     "text": [
      "Epoch 85\n",
      "Train loss : 0.2851353123077291, dev loss : 0.5534396349422394\n",
      "Dev MSE (rounded outs) : 0.545, R2: 0.639, f1: 0.486\n"
     ]
    },
    {
     "name": "stderr",
     "output_type": "stream",
     "text": [
      " 86%|████████▌ | 86/100 [15:56<02:44, 11.76s/it]"
     ]
    },
    {
     "name": "stdout",
     "output_type": "stream",
     "text": [
      "Epoch 86\n",
      "Train loss : 0.28332065278480173, dev loss : 0.5407721145499137\n",
      "Dev MSE (rounded outs) : 0.549, R2: 0.647, f1: 0.482\n"
     ]
    },
    {
     "name": "stderr",
     "output_type": "stream",
     "text": [
      " 87%|████████▋ | 87/100 [16:07<02:27, 11.34s/it]"
     ]
    },
    {
     "name": "stdout",
     "output_type": "stream",
     "text": [
      "Epoch 87\n",
      "Train loss : 0.28361543531533284, dev loss : 0.5439877010160877\n",
      "Dev MSE (rounded outs) : 0.550, R2: 0.645, f1: 0.462\n"
     ]
    },
    {
     "name": "stderr",
     "output_type": "stream",
     "text": [
      " 88%|████████▊ | 88/100 [16:18<02:15, 11.29s/it]"
     ]
    },
    {
     "name": "stdout",
     "output_type": "stream",
     "text": [
      "Epoch 88\n",
      "Train loss : 0.28438171264328976, dev loss : 0.5332271120240611\n",
      "Dev MSE (rounded outs) : 0.548, R2: 0.652, f1: 0.483\n"
     ]
    },
    {
     "name": "stderr",
     "output_type": "stream",
     "text": [
      " 89%|████████▉ | 89/100 [16:28<02:01, 11.02s/it]"
     ]
    },
    {
     "name": "stdout",
     "output_type": "stream",
     "text": [
      "Epoch 89\n",
      "Train loss : 0.27675717215057416, dev loss : 0.5758715464222816\n",
      "Dev MSE (rounded outs) : 0.557, R2: 0.624, f1: 0.452\n"
     ]
    },
    {
     "name": "stderr",
     "output_type": "stream",
     "text": [
      " 89%|████████▉ | 89/100 [16:39<02:03, 11.23s/it]"
     ]
    },
    {
     "name": "stdout",
     "output_type": "stream",
     "text": [
      "Epoch 90\n",
      "Train loss : 0.278838271348785, dev loss : 0.5823398939063472\n",
      "Dev MSE (rounded outs) : 0.560, R2: 0.620, f1: 0.453\n",
      "Early stop.\n",
      "Best dev loss: 0.5156477617640649\n",
      "MSE: 0.544, r2: 0.663, f1 macro: 0.491\n",
      "              precision    recall  f1-score   support\n",
      "\n",
      "         0.0       0.95      0.97      0.96       702\n",
      "         1.0       0.00      0.00      0.00         0\n",
      "         2.0       0.40      0.59      0.48        93\n",
      "         3.0       0.68      0.43      0.53       192\n",
      "\n",
      "    accuracy                           0.83       987\n",
      "   macro avg       0.51      0.50      0.49       987\n",
      "weighted avg       0.85      0.83      0.83       987\n",
      "\n"
     ]
    },
    {
     "name": "stderr",
     "output_type": "stream",
     "text": [
      "\n"
     ]
    },
    {
     "data": {
      "text/plain": "<Figure size 432x288 with 0 Axes>"
     },
     "metadata": {},
     "output_type": "display_data"
    },
    {
     "data": {
      "text/plain": "<Figure size 432x288 with 1 Axes>",
      "image/png": "[encoded data removed]"
     },
     "metadata": {
      "needs_background": "light"
     },
     "output_type": "display_data"
    },
    {
     "data": {
      "text/plain": "<Figure size 432x288 with 0 Axes>"
     },
     "metadata": {},
     "output_type": "display_data"
    },
    {
     "data": {
      "text/plain": "<Figure size 432x288 with 1 Axes>",
      "image/png": "[encoded data removed]"
     },
     "metadata": {
      "needs_background": "light"
     },
     "output_type": "display_data"
    }
   ],
   "source": [
    "device = 'cuda:0'\n",
    "\n",
    "train_ds = TensorDataset(seq_x_train, seq_y_train)\n",
    "train_dl = DataLoader(train_ds, batch_size=32, shuffle=True)\n",
    "\n",
    "test_ds = TensorDataset(seq_x_test, seq_y_test)\n",
    "test_dl = DataLoader(test_ds, batch_size=32, shuffle=True)\n",
    "\n",
    "mcdLSTM_clf = MCDLSTM(no_layers=3, input_size=12, hidden_dim=64, output_dim=4, drop_prob=0.5, device=device).to(device)\n",
    "\n",
    "mse, r2, f1, report = train_mcdlstm(mcdLSTM_clf, train_dl, test_dl, regression=False,\n",
    "                                    epochs=100, lr=0.00001, patience=10,\n",
    "                                    save_prefix='models/lstm_model_clf_'+str(int(time.time())),\n",
    "                                    print_chart=True, save_chart=True, print_progress=True, device=device)\n",
    "\n",
    "print(f'MSE: {mse:.3f}, r2: {r2:.3f}, f1 macro: {f1:.3f}')\n",
    "print(report)"
   ]
  },
  {
   "cell_type": "markdown",
   "source": [
    "# Niepewności (regresja)"
   ],
   "metadata": {
    "collapsed": false,
    "pycharm": {
     "name": "#%% md\n"
    }
   }
  },
  {
   "cell_type": "code",
   "execution_count": 13,
   "metadata": {
    "pycharm": {
     "name": "#%%\n"
    }
   },
   "outputs": [
    {
     "data": {
      "text/plain": "<Figure size 1296x648 with 1 Axes>",
      "image/png": "[encoded data removed]"
     },
     "metadata": {
      "needs_background": "light"
     },
     "output_type": "display_data"
    },
    {
     "data": {
      "text/plain": "<Figure size 1296x648 with 1 Axes>",
      "image/png": "[encoded data removed]"
     },
     "metadata": {
      "needs_background": "light"
     },
     "output_type": "display_data"
    }
   ],
   "source": [
    "from src.lstm import visualise_regr_results\n",
    "\n",
    "device='cuda:0'\n",
    "mcdLSTM_regr = MCDLSTM(no_layers=3, input_size=12, hidden_dim=64, output_dim=1, drop_prob=0.5, device=device).to(device)\n",
    "best_state = torch.load('models/lstm_model_regr.pt', map_location=device)\n",
    "mcdLSTM_regr.load_state_dict(best_state)\n",
    "\n",
    "plt.figure(figsize=(18, 9))\n",
    "visualise_regr_results(mcdLSTM_regr, seq_x_test[0:1000], seq_y_test[0:1000], device=device)\n",
    "plt.figure(figsize=(18, 9))\n",
    "visualise_regr_results(mcdLSTM_regr, seq_x_test[100:200], seq_y_test[100:200], device=device)"
   ]
  },
  {
   "cell_type": "markdown",
   "source": [
    "## Prawdopodobieństwa klasy (klasyfikacja)"
   ],
   "metadata": {
    "collapsed": false,
    "pycharm": {
     "name": "#%% md\n"
    }
   }
  },
  {
   "cell_type": "code",
   "execution_count": 14,
   "metadata": {
    "pycharm": {
     "name": "#%%\n"
    }
   },
   "outputs": [
    {
     "data": {
      "text/plain": "<Figure size 1296x648 with 1 Axes>",
      "image/png": "[encoded data removed]"
     },
     "metadata": {
      "needs_background": "light"
     },
     "output_type": "display_data"
    }
   ],
   "source": [
    "from src.lstm import visualise_clf_results\n",
    "\n",
    "device='cuda:0'\n",
    "mcdLSTM_clf = MCDLSTM(no_layers=3, input_size=12, hidden_dim=64, output_dim=4, drop_prob=0.5, device=device).to(device)\n",
    "best_state = torch.load('models/lstm_model_clf.pt', map_location=device)\n",
    "mcdLSTM_clf.load_state_dict(best_state)\n",
    "\n",
    "plt.figure(figsize=(18, 9))\n",
    "visualise_clf_results(mcdLSTM_clf, seq_x_test[200:400], seq_y_test[200:400], device=device)"
   ]
  },
  {
   "cell_type": "markdown",
   "source": [
    "## Hiperparametry"
   ],
   "metadata": {
    "collapsed": false,
    "pycharm": {
     "name": "#%% md\n"
    }
   }
  },
  {
   "cell_type": "code",
   "execution_count": 2,
   "outputs": [
    {
     "name": "stderr",
     "output_type": "stream",
     "text": [
      " 45%|████▌     | 136/300 [03:57<04:46,  1.75s/it]"
     ]
    },
    {
     "name": "stdout",
     "output_type": "stream",
     "text": [
      "Early stop.\n",
      "Best dev loss: 1.237116363313463\n",
      "MSE: 1.657, r2: -0.293, f1 macro: 0.356\n",
      "              precision    recall  f1-score   support\n",
      "\n",
      "         0.0       0.88      0.54      0.67      1816\n",
      "         1.0       0.00      0.00      0.00       123\n",
      "         2.0       0.00      0.00      0.00       121\n",
      "         3.0       0.63      0.94      0.76       230\n",
      "\n",
      "    accuracy                           0.52      2290\n",
      "   macro avg       0.38      0.37      0.36      2290\n",
      "weighted avg       0.76      0.52      0.61      2290\n",
      "\n"
     ]
    },
    {
     "name": "stderr",
     "output_type": "stream",
     "text": [
      "\n",
      "  5%|▌         | 16/300 [01:06<19:33,  4.13s/it]"
     ]
    },
    {
     "name": "stdout",
     "output_type": "stream",
     "text": [
      "Early stop.\n",
      "Best dev loss: 1.3947350795452411\n",
      "MSE: 1.783, r2: -0.938, f1 macro: 0.171\n",
      "              precision    recall  f1-score   support\n",
      "\n",
      "         0.0       0.34      1.00      0.51       143\n",
      "         1.0       0.00      0.00      0.00       116\n",
      "         2.0       0.00      0.00      0.00       156\n",
      "\n",
      "    accuracy                           0.34       415\n",
      "   macro avg       0.11      0.33      0.17       415\n",
      "weighted avg       0.12      0.34      0.18       415\n",
      "\n"
     ]
    },
    {
     "name": "stderr",
     "output_type": "stream",
     "text": [
      "\n",
      " 65%|██████▌   | 196/300 [24:56<13:13,  7.63s/it]"
     ]
    },
    {
     "name": "stdout",
     "output_type": "stream",
     "text": [
      "Early stop.\n",
      "Best dev loss: 0.11230862583654622\n",
      "MSE: 0.065, r2: 0.739, f1 macro: 0.671\n",
      "              precision    recall  f1-score   support\n",
      "\n",
      "         0.0       1.00      0.99      0.99      4280\n",
      "         1.0       0.74      0.64      0.68       138\n",
      "         2.0       0.58      0.76      0.66       242\n",
      "         3.0       0.40      0.30      0.34       130\n",
      "\n",
      "    accuracy                           0.95      4790\n",
      "   macro avg       0.68      0.67      0.67      4790\n",
      "weighted avg       0.95      0.95      0.95      4790\n",
      "\n"
     ]
    },
    {
     "name": "stderr",
     "output_type": "stream",
     "text": [
      "\n",
      " 16%|█▋        | 49/300 [09:45<49:57, 11.94s/it]"
     ]
    },
    {
     "name": "stdout",
     "output_type": "stream",
     "text": [
      "Early stop.\n",
      "Best dev loss: 0.3508489316000658\n",
      "MSE: 0.296, r2: 0.765, f1 macro: 0.370\n",
      "              precision    recall  f1-score   support\n",
      "\n",
      "         0.0       0.99      0.99      0.99       777\n",
      "         1.0       0.00      0.00      0.00         0\n",
      "         2.0       0.32      1.00      0.49        93\n",
      "         3.0       0.00      0.00      0.00       201\n",
      "\n",
      "    accuracy                           0.80      1071\n",
      "   macro avg       0.33      0.50      0.37      1071\n",
      "weighted avg       0.75      0.80      0.76      1071\n",
      "\n",
      "[tensor(1.6572), tensor(1.7831), tensor(0.0647), tensor(0.2960)]\n",
      "[0.3561453442473096, 0.17084826762246116, 0.6707339252286719, 0.3699475043321668]\n",
      "Avg mse: 0.9502602219581604, f1: 0.39191876035765233\n"
     ]
    },
    {
     "name": "stderr",
     "output_type": "stream",
     "text": [
      "\n"
     ]
    },
    {
     "data": {
      "text/plain": "<Figure size 432x288 with 1 Axes>",
      "image/png": "[encoded data removed]"
     },
     "metadata": {
      "needs_background": "light"
     },
     "output_type": "display_data"
    },
    {
     "data": {
      "text/plain": "<Figure size 432x288 with 1 Axes>",
      "image/png": "[encoded data removed]"
     },
     "metadata": {
      "needs_background": "light"
     },
     "output_type": "display_data"
    },
    {
     "data": {
      "text/plain": "<Figure size 432x288 with 1 Axes>",
      "image/png": "[encoded data removed]"
     },
     "metadata": {
      "needs_background": "light"
     },
     "output_type": "display_data"
    },
    {
     "data": {
      "text/plain": "<Figure size 432x288 with 1 Axes>",
      "image/png": "[encoded data removed]"
     },
     "metadata": {
      "needs_background": "light"
     },
     "output_type": "display_data"
    },
    {
     "data": {
      "text/plain": "<Figure size 432x288 with 1 Axes>",
      "image/png": "[encoded data removed]"
     },
     "metadata": {
      "needs_background": "light"
     },
     "output_type": "display_data"
    },
    {
     "data": {
      "text/plain": "<Figure size 432x288 with 1 Axes>",
      "image/png": "[encoded data removed]"
     },
     "metadata": {
      "needs_background": "light"
     },
     "output_type": "display_data"
    },
    {
     "data": {
      "text/plain": "<Figure size 432x288 with 1 Axes>",
      "image/png": "[encoded data removed]"
     },
     "metadata": {
      "needs_background": "light"
     },
     "output_type": "display_data"
    },
    {
     "data": {
      "text/plain": "<Figure size 432x288 with 1 Axes>",
      "image/png": "[encoded data removed]"
     },
     "metadata": {
      "needs_background": "light"
     },
     "output_type": "display_data"
    }
   ],
   "source": [
    "splitted_series = time_series_split(df)\n",
    "evaluate_hparams(splitted_series, epochs=300)"
   ],
   "metadata": {
    "collapsed": false,
    "pycharm": {
     "name": "#%%\n"
    }
   }
  },
  {
   "cell_type": "code",
   "execution_count": null,
   "outputs": [
    {
     "name": "stderr",
     "output_type": "stream",
     "text": [
      "  0%|          | 0/54 [00:00<?, ?it/s]"
     ]
    }
   ],
   "source": [
    "import pickle\n",
    "\n",
    "torch.manual_seed(11)\n",
    "np.random.seed(11)\n",
    "\n",
    "splitted_series = time_series_split(df)\n",
    "\n",
    "epochs=200\n",
    "patience=10\n",
    "param_grid_1 = {'sequence_length': [5, 10, 15], 'no_layers': [2, 3, 4], 'hidden_dim': [16,32,64], 'regression': [True, False],\n",
    "                'drop_prob': [0.5], 'lr': [0.00001]}\n",
    "\n",
    "param_grid_2 = {'drop_prob': [0.1, 0.25, 0.5], 'lr': [0.00001, 0.00005, 0.0001]}\n",
    "\n",
    "param_grid = ParameterGrid(param_grid_1)\n",
    "outs = []\n",
    "for params in tqdm(param_grid):\n",
    "    mse_vals, f1_vals, save_prefix = evaluate_hparams(splitted_series, silent=True, epochs=300, **params)\n",
    "    params['mse_vals'] = mse_vals\n",
    "    params['mse_mean'] = np.mean(mse_vals)\n",
    "    params['mse_std'] = np.std(mse_vals)\n",
    "    params['f1_vals'] = f1_vals\n",
    "    params['f1_mean'] = np.mean(f1_vals)\n",
    "    params['f1_std'] = np.std(f1_vals)\n",
    "    params['save_prefix'] = save_prefix\n",
    "    outs.append(params)\n",
    "    res_df = pd.DataFrame.from_records(outs)\n",
    "    with open('hp_tuning_df.pkl', 'wb') as f:\n",
    "        pickle.dump(obj=res_df, file=f)\n"
   ],
   "metadata": {
    "collapsed": false,
    "pycharm": {
     "name": "#%%\n",
     "is_executing": true
    }
   }
  }
 ],
 "metadata": {
  "kernelspec": {
   "display_name": "Python 3 (ipykernel)",
   "language": "python",
   "name": "python3"
  },
  "language_info": {
   "codemirror_mode": {
    "name": "ipython",
    "version": 3
   },
   "file_extension": ".py",
   "mimetype": "text/x-python",
   "name": "python",
   "nbconvert_exporter": "python",
   "pygments_lexer": "ipython3",
   "version": "3.8.10"
  }
 },
 "nbformat": 4,
 "nbformat_minor": 1
}
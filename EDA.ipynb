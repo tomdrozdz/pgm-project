{
 "cells": [
  {
   "cell_type": "code",
   "execution_count": null,
   "id": "5440ef8b",
   "metadata": {
    "collapsed": false,
    "pycharm": {
     "name": "#%%\n"
    }
   },
   "outputs": [],
   "source": [
    "\n",
    "%load_ext autoreload\n",
    "%autoreload 2\n",
    "\n",
    "import matplotlib.pyplot as plt\n",
    "from pandas_profiling import ProfileReport\n",
    "from sklearn.ensemble import RandomForestClassifier\n",
    "\n",
    "from src.data import batch_dataset, load_data, split_data, time_series_split\n",
    "from src.forest import plot_predict_forest, train_forest"
   ]
  },
  {
   "cell_type": "code",
   "execution_count": null,
   "id": "8847c475",
   "metadata": {
    "collapsed": false,
    "pycharm": {
     "name": "#%%\n"
    }
   },
   "outputs": [],
   "source": [
    "df = load_data()\n",
    "dataset = split_data(df, scale=\"normalize\")\n",
    "seq_dataset = batch_dataset(dataset, sequence_length=25)\n",
    "\n",
    "(x_train, y_train), (x_test, y_test) = dataset\n",
    "(seq_x_train, seq_y_train), (seq_x_test, seq_y_test) = seq_dataset\n"
   ]
  },
  {
   "cell_type": "code",
   "execution_count": null,
   "id": "8b7ed9ab",
   "metadata": {
    "collapsed": false,
    "pycharm": {
     "name": "#%%\n"
    }
   },
   "outputs": [],
   "source": [
    "report = ProfileReport(df)\n",
    "report.to_notebook_iframe()"
   ]
  },
  {
   "cell_type": "code",
   "execution_count": null,
   "id": "a47255f6",
   "metadata": {
    "collapsed": false,
    "pycharm": {
     "name": "#%%\n"
    }
   },
   "outputs": [],
   "source": [
    "df[df[\"Timestamp\"].dt.date == df[\"Timestamp\"].dt.date.min()].plot(\n",
    "    x=\"Timestamp\", subplots=True, figsize=(10, 20), lw=0.7\n",
    ")"
   ]
  },
  {
   "cell_type": "markdown",
   "id": "ccccc21f",
   "metadata": {},
   "source": [
    "# Time Series Split dla całego zbioru"
   ]
  },
  {
   "cell_type": "code",
   "execution_count": null,
   "id": "027cbf6c",
   "metadata": {},
   "outputs": [],
   "source": [
    "series = time_series_split(df)\n",
    "fig, axes = plt.subplots(nrows=4, ncols=2, figsize=(12, 8), sharex=True, sharey=True)\n",
    "\n",
    "axes[0][0].set_title(\"y_train\")\n",
    "axes[0][1].set_title(\"y_test\")\n",
    "\n",
    "for i, (s, (ax1, ax2)) in enumerate(zip(series, axes)):\n",
    "    (x_train, y_train), (x_test, y_test) = s\n",
    "    y_train.plot(ax=ax1)\n",
    "    y_test.plot(ax=ax2)\n",
    "    ax1.set_ylabel(f\"Split {i + 1}\")"
   ]
  },
  {
   "cell_type": "markdown",
   "id": "8c56f06e",
   "metadata": {
    "collapsed": false,
    "pycharm": {
     "name": "#%% md\n"
    }
   },
   "source": [
    "# RandomForest"
   ]
  },
  {
   "cell_type": "code",
   "execution_count": null,
   "id": "77744f78",
   "metadata": {
    "collapsed": false,
    "pycharm": {
     "name": "#%%\n"
    }
   },
   "outputs": [],
   "source": [
    "forest = train_forest(RandomForestClassifier(), dataset)\n",
    "plot_predict_forest(forest, x_test, y_test)"
   ]
  }
 ],
 "metadata": {
  "interpreter": {
   "hash": "369f2c481f4da34e4445cda3fffd2e751bd1c4d706f27375911949ba6bb62e1c"
  },
  "kernelspec": {
   "display_name": "Python 3.10.5 64-bit",
   "language": "python",
   "name": "python3"
  },
  "language_info": {
   "codemirror_mode": {
    "name": "ipython",
    "version": 3
   },
   "file_extension": ".py",
   "mimetype": "text/x-python",
   "name": "python",
   "nbconvert_exporter": "python",
   "pygments_lexer": "ipython3",
   "version": "3.10.5"
  },
  "vscode": {
   "interpreter": {
    "hash": "369f2c481f4da34e4445cda3fffd2e751bd1c4d706f27375911949ba6bb62e1c"
   }
  }
 },
 "nbformat": 4,
 "nbformat_minor": 5
}
